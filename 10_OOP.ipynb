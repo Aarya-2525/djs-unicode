{
 "cells": [
  {
   "cell_type": "markdown",
   "id": "726ca555",
   "metadata": {},
   "source": [
    "# 🧠 Python OOP Mastery Notebook: Topic 10\n",
    "This notebook is your personalized, challenge-filled guide to mastering Object-Oriented Programming in Python.\n",
    "Let’s conquer classes, inheritance, encapsulation, properties, and more — one block at a time!"
   ]
  },
  {
   "cell_type": "markdown",
   "id": "700e9440",
   "metadata": {},
   "source": [
    "## 🔹 1. Classes, Objects, `__init__`, `self`\n",
    "- A class is a blueprint. An object is a real-world instance.\n",
    "- `__init__` initializes object state.\n",
    "- `self` points to the instance.\n",
    "\n",
    "```python\n",
    "class Bartender:\n",
    "    def __init__(self, name):\n",
    "        self.name = name\n",
    "\n",
    "    def greet(self):\n",
    "        return f\"Hi, I'm {self.name}\"\n",
    "\n",
    "b = Bartender(\"Aarya\")\n",
    "print(b.greet())\n",
    "```\n"
   ]
  },
  {
   "cell_type": "code",
   "execution_count": 1,
   "id": "49636cdc",
   "metadata": {},
   "outputs": [
    {
     "name": "stdout",
     "output_type": "stream",
     "text": [
      "Mojito : $10\n"
     ]
    }
   ],
   "source": [
    "# 🎯 Challenge: Create a class `Drink` with attributes `name` and `price`. Add a method `details()` that returns a formatted string.\n",
    "class Drink:\n",
    "    def __init__(self, name, price):\n",
    "        self.name = name\n",
    "        self.price = price\n",
    "    def details(self):\n",
    "        return f\"{self.name} : ${self.price}\"\n",
    "\n",
    "d = Drink(\"Mojito\",10)\n",
    "print(d.details())"
   ]
  },
  {
   "cell_type": "markdown",
   "id": "39d26180",
   "metadata": {},
   "source": [
    "<details><summary>✅ Show Answer</summary>\n",
    "\n",
    "```python\n",
    "class Drink:\n",
    "    def __init__(self, name, price):\n",
    "        self.name = name\n",
    "        self.price = price\n",
    "\n",
    "    def details(self):\n",
    "        return f\"{self.name} costs ₹{self.price}\"\n",
    "```\n",
    "</details>"
   ]
  },
  {
   "cell_type": "markdown",
   "id": "446cd9c9",
   "metadata": {},
   "source": [
    "## 🔹 2. Class vs Instance Variables\n",
    "- Instance: Belongs to object, defined in `__init__`\n",
    "- Class: Shared across all objects\n",
    "\n",
    "```python\n",
    "class Menu:\n",
    "    drinks = []  # class var\n",
    "    def __init__(self, item):\n",
    "        self.item = item  # instance var\n",
    "```"
   ]
  },
  {
   "cell_type": "code",
   "execution_count": null,
   "id": "8613ee26",
   "metadata": {},
   "outputs": [
    {
     "name": "stdout",
     "output_type": "stream",
     "text": [
      "2\n"
     ]
    }
   ],
   "source": [
    "# 🎯 Challenge: Create a `Customer` class with class var `total_customers`. Increment it every time a new customer is created.\n",
    "class Customer:\n",
    "    total_customers = 0\n",
    "    def __init__(self, name):\n",
    "        self.name = name\n",
    "        Customer.total_customers+=1\n",
    "        \n",
    "c1 = Customer(\"Aarya\")\n",
    "c2 = Customer(\"Guido Van Rossum\")\n",
    "print(Customer.total_customers)"
   ]
  },
  {
   "cell_type": "markdown",
   "id": "93258503",
   "metadata": {},
   "source": [
    "<details><summary>✅ Show Answer</summary>\n",
    "\n",
    "```python\n",
    "class Customer:\n",
    "    total_customers = 0\n",
    "\n",
    "    def __init__(self, name):\n",
    "        self.name = name\n",
    "        Customer.total_customers += 1\n",
    "```\n",
    "</details>"
   ]
  },
  {
   "cell_type": "markdown",
   "id": "9175b634",
   "metadata": {},
   "source": [
    "## 🔹 3. `__str__()` vs `__repr__()`\n",
    "- `__str__`: Human-readable (UI)\n",
    "- `__repr__`: Debugging, developers\n",
    "\n",
    "```python\n",
    "class Bottle:\n",
    "    def __init__(self, label):\n",
    "        self.label = label\n",
    "\n",
    "    def __str__(self):\n",
    "        return f\"Bottle of {self.label}\"\n",
    "\n",
    "    def __repr__(self):\n",
    "        return f\"Bottle('{self.label}')\"\n",
    "```"
   ]
  },
  {
   "cell_type": "code",
   "execution_count": 7,
   "id": "705634bb",
   "metadata": {},
   "outputs": [
    {
     "name": "stdout",
     "output_type": "stream",
     "text": [
      "Name is Aarya\n",
      "Name('Aarya')\n",
      "Name is Aarya\n"
     ]
    }
   ],
   "source": [
    "# 🎯 Challenge: Create a class `Person` with __str__ and __repr__ that return different outputs.\n",
    "class Person:\n",
    "    def __init__(self, name):\n",
    "        self.name = name\n",
    "    def __str__(self):\n",
    "        return f\"Name is {self.name}\"\n",
    "    def __repr__(self):\n",
    "        return f\"Name('{self.name}')\"\n",
    "    \n",
    "p = Person(\"Aarya\")\n",
    "print(str(p))   # Uses __str__  → \"Name is Aarya\"\n",
    "print(repr(p))  # Uses __repr__ → \"Name('Aarya')\"\n",
    "print(p)        # Defaults to __str__ when used in print()"
   ]
  },
  {
   "cell_type": "markdown",
   "id": "f4946062",
   "metadata": {},
   "source": [
    "## 🔹 4. Inheritance & `super()`\n",
    "- Inheritance reuses code from a base class.\n",
    "- `super()` lets you access parent methods inside child.\n",
    "\n",
    "```python\n",
    "class Staff:\n",
    "    def __init__(self, name):\n",
    "        self.name = name\n",
    "\n",
    "class Bartender(Staff):\n",
    "    def __init__(self, name, bar):\n",
    "        super().__init__(name)\n",
    "        self.bar = bar\n",
    "```"
   ]
  },
  {
   "cell_type": "code",
   "execution_count": 13,
   "id": "79854f02",
   "metadata": {},
   "outputs": [
    {
     "name": "stdout",
     "output_type": "stream",
     "text": [
      "Hello John!\n",
      "Hello Aarya!\n",
      "Aarya is BANNED!\n"
     ]
    }
   ],
   "source": [
    "# 🎯 Challenge: Create a base class `User` and subclass `Admin` that adds a method `ban_user()`.\n",
    "class User:\n",
    "    def __init__(self, name):\n",
    "        self.name = name\n",
    "    def greet(self):\n",
    "        return f\"Hello {self.name}!\"\n",
    "class Admin(User):\n",
    "    def __init__(self, name):\n",
    "        super().__init__(name)\n",
    "    def ban_user(self):\n",
    "        return f\"{self.name} is BANNED!\"\n",
    "\n",
    "a = Admin(\"Aarya\")\n",
    "u = User(\"John\")\n",
    "print(u.greet())\n",
    "print(a.greet())\n",
    "print(a.ban_user())"
   ]
  },
  {
   "cell_type": "markdown",
   "id": "65a11c4f",
   "metadata": {},
   "source": [
    "## 🔹 5. Method Overriding\n",
    "- Redefine parent methods in child to provide specific behavior.\n",
    "\n",
    "```python\n",
    "class A:\n",
    "    def greet(self): return \"Hello from A\"\n",
    "\n",
    "class B(A):\n",
    "    def greet(self): return \"Hello from B\"\n",
    "```"
   ]
  },
  {
   "cell_type": "code",
   "execution_count": 2,
   "id": "319ce5d9",
   "metadata": {},
   "outputs": [
    {
     "name": "stdout",
     "output_type": "stream",
     "text": [
      "Hello, I'm a user!\n",
      "Hello, I'm a member!\n"
     ]
    }
   ],
   "source": [
    "# 🎯 Challenge: Override `get_role()` in a `Member` class inherited from a `User` class.\n",
    "class User:\n",
    "    def get_role(self): return \"Hello, I'm a user!\"\n",
    "class Member(User):\n",
    "    def get_role(self): return \"Hello, I'm a member!\"\n",
    "\n",
    "u = User()\n",
    "m = Member()\n",
    "print(u.get_role())\n",
    "print(m.get_role())"
   ]
  },
  {
   "cell_type": "markdown",
   "id": "4cb9d405",
   "metadata": {},
   "source": [
    "## 🔹 6. Encapsulation\n",
    "- Public: `self.name`\n",
    "- Protected: `self._name` (convention)\n",
    "- Private: `self.__name` (name mangling)\n",
    "\n",
    "```python\n",
    "class Secret:\n",
    "    def __init__(self):\n",
    "        self.public = 'yes'\n",
    "        self._protected = 'maybe'\n",
    "        self.__private = 'no'\n",
    "```"
   ]
  },
  {
   "cell_type": "code",
   "execution_count": 4,
   "id": "6bffdc58",
   "metadata": {},
   "outputs": [
    {
     "name": "stdout",
     "output_type": "stream",
     "text": [
      "public\n",
      "private\n"
     ]
    }
   ],
   "source": [
    "# 🎯 Challenge: Create a class `Vault` with one public and one private variable. Access the private using name mangling.\n",
    "class Vault:\n",
    "    def __init__(self):\n",
    "        self.public = \"public\"\n",
    "        self.__private = \"private\"\n",
    "\n",
    "v = Vault()\n",
    "print(v.public)\n",
    "print(v._Vault__private)"
   ]
  },
  {
   "cell_type": "markdown",
   "id": "c45ef7cb",
   "metadata": {},
   "source": [
    "## 🔹 7. @classmethod vs @staticmethod\n",
    "- `@classmethod`: receives `cls`, modifies class state\n",
    "- `@staticmethod`: utility, no access to class or self\n",
    "\n",
    "```python\n",
    "class Math:\n",
    "    @staticmethod\n",
    "    def add(a, b): return a + b\n",
    "\n",
    "    @classmethod\n",
    "    def identity(cls): return cls.__name__\n",
    "```"
   ]
  },
  {
   "cell_type": "code",
   "execution_count": 7,
   "id": "7a02dd7e",
   "metadata": {},
   "outputs": [
    {
     "name": "stdout",
     "output_type": "stream",
     "text": [
      "0\n",
      "1\n",
      "2\n"
     ]
    }
   ],
   "source": [
    "# 🎯 Challenge: Write a class `Tracker` with a classmethod `increment()` that increases a counter.\n",
    "class Tracker:\n",
    "    counter=0\n",
    "    @classmethod\n",
    "    def increment(cls): Tracker.counter+=1\n",
    "\n",
    "t = Tracker()\n",
    "print(t.counter)\n",
    "t.increment()\n",
    "print(t.counter)\n",
    "t.increment()\n",
    "print(t.counter)"
   ]
  },
  {
   "cell_type": "markdown",
   "id": "137cea91",
   "metadata": {},
   "source": [
    "## 🔹 8. @property Decorators\n",
    "Make methods behave like attributes + create controlled setters.\n",
    "\n",
    "```python\n",
    "class Circle:\n",
    "    def __init__(self, r): self._r = r\n",
    "\n",
    "    @property\n",
    "    def diameter(self): return self._r * 2\n",
    "\n",
    "    @diameter.setter\n",
    "    def diameter(self, val): self._r = val / 2\n",
    "```"
   ]
  },
  {
   "cell_type": "code",
   "execution_count": null,
   "id": "dabc11c9",
   "metadata": {},
   "outputs": [
    {
     "name": "stdout",
     "output_type": "stream",
     "text": [
      "32.0\n",
      "100.0\n"
     ]
    }
   ],
   "source": [
    "# 🎯 Challenge: Create a class `Temperature` with a celsius-to-fahrenheit @property and a setter.\n",
    "class Temperature:\n",
    "    def __init__(self, celsius): self._celsius = celsius\n",
    "\n",
    "    @property\n",
    "    def to_fahrenheit(self): return self._celsius*1.8 + 32\n",
    "\n",
    "    @to_fahrenheit.setter\n",
    "    def to_fahrenheit(self, f): self._celsius = (f-32)/1.8\n",
    "\n",
    "t = Temperature(0) #in C\n",
    "print(t.to_fahrenheit)\n",
    "\n",
    "t.to_fahrenheit = 212 #in F\n",
    "print(t._celsius)\n"
   ]
  }
 ],
 "metadata": {
  "kernelspec": {
   "display_name": "env",
   "language": "python",
   "name": "python3"
  },
  "language_info": {
   "codemirror_mode": {
    "name": "ipython",
    "version": 3
   },
   "file_extension": ".py",
   "mimetype": "text/x-python",
   "name": "python",
   "nbconvert_exporter": "python",
   "pygments_lexer": "ipython3",
   "version": "3.12.3"
  }
 },
 "nbformat": 4,
 "nbformat_minor": 5
}
