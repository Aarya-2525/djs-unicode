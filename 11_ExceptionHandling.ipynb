{
 "cells": [
  {
   "cell_type": "markdown",
   "id": "bbbaee5a",
   "metadata": {},
   "source": [
    "# 🛡️ Python Exception Handling Challenge Notebook\n",
    "Master exception handling in Python with hands-on challenges, guided examples, and dropdown answers. Catch errors like a pro and write bulletproof, resilient code!\n"
   ]
  },
  {
   "cell_type": "markdown",
   "id": "405eba22",
   "metadata": {},
   "source": [
    "## 🔹 1. try, except, else, finally\n",
    "Use these blocks to handle known or unknown errors gracefully.\n"
   ]
  },
  {
   "cell_type": "code",
   "execution_count": 1,
   "id": "e18628ee",
   "metadata": {},
   "outputs": [
    {
     "name": "stdout",
     "output_type": "stream",
     "text": [
      "Can't divide by zero!\n",
      "Division attempt finished.\n"
     ]
    }
   ],
   "source": [
    "# 🎯 Challenge: Implement a division function that prints error message if denominator is 0.\n",
    "try:\n",
    "    num = 10\n",
    "    den = 0\n",
    "    result = num / den\n",
    "except ZeroDivisionError:\n",
    "    print(\"Can't divide by zero!\")\n",
    "else:\n",
    "    print(\"Result:\", result)\n",
    "finally:\n",
    "    print(\"Division attempt finished.\")"
   ]
  },
  {
   "cell_type": "markdown",
   "id": "ea1e5590",
   "metadata": {},
   "source": [
    "<details><summary>✅ Show Answer</summary>\n",
    "\n",
    "```python\n",
    "try:\n",
    "    num = 10\n",
    "    den = 0\n",
    "    result = num / den\n",
    "except ZeroDivisionError:\n",
    "    print(\"Can't divide by zero!\")\n",
    "else:\n",
    "    print(\"Result:\", result)\n",
    "finally:\n",
    "    print(\"Division attempt finished.\")\n",
    "```\n",
    "</details>"
   ]
  },
  {
   "cell_type": "markdown",
   "id": "3fed4255",
   "metadata": {},
   "source": [
    "## 🔹 2. Handling Multiple Exception Types\n",
    "Use tuples or multiple `except` blocks to handle different errors."
   ]
  },
  {
   "cell_type": "code",
   "execution_count": 8,
   "id": "64f7779d",
   "metadata": {},
   "outputs": [
    {
     "name": "stdout",
     "output_type": "stream",
     "text": [
      "Not a valid number!\n"
     ]
    }
   ],
   "source": [
    "# 🎯 Challenge: Convert input to int and divide 100 by it. Catch both ValueError and ZeroDivisionError.\n",
    "user_input = \"a\"\n",
    "try:\n",
    "    x = int(user_input)\n",
    "    print(100 / x)\n",
    "except ValueError:\n",
    "    print(\"Not a valid number!\")\n",
    "except ZeroDivisionError:\n",
    "    print(\"Division by zero is not allowed.\")"
   ]
  },
  {
   "cell_type": "markdown",
   "id": "4f9a8096",
   "metadata": {},
   "source": [
    "<details><summary>✅ Show Answer</summary>\n",
    "\n",
    "```python\n",
    "user_input = \"0\"\n",
    "try:\n",
    "    x = int(user_input)\n",
    "    print(100 / x)\n",
    "except ValueError:\n",
    "    print(\"Not a valid number!\")\n",
    "except ZeroDivisionError:\n",
    "    print(\"Division by zero is not allowed.\")\n",
    "```\n",
    "</details>"
   ]
  },
  {
   "cell_type": "markdown",
   "id": "52ad6206",
   "metadata": {},
   "source": [
    "## 🔹 3. raise and Custom Exceptions\n",
    "Raise errors manually when needed and define your own exceptions."
   ]
  },
  {
   "cell_type": "code",
   "execution_count": 9,
   "id": "9ac8c98c",
   "metadata": {},
   "outputs": [
    {
     "name": "stdout",
     "output_type": "stream",
     "text": [
      "Error: Too chilly to serve drinks!\n"
     ]
    }
   ],
   "source": [
    "# 🎯 Challenge: Raise a custom exception `TooColdError` if temp < 5\n",
    "class TooColdError(Exception):\n",
    "    pass\n",
    "\n",
    "def check_temperature(temp):\n",
    "    if temp < 5:\n",
    "        raise TooColdError(\"Too chilly to serve drinks!\")\n",
    "\n",
    "try:\n",
    "    check_temperature(3)\n",
    "except TooColdError as e:\n",
    "    print(\"Error:\", e)"
   ]
  },
  {
   "cell_type": "markdown",
   "id": "a7d26800",
   "metadata": {},
   "source": [
    "<details><summary>✅ Show Answer</summary>\n",
    "\n",
    "```python\n",
    "class TooColdError(Exception):\n",
    "    pass\n",
    "\n",
    "def check_temperature(temp):\n",
    "    if temp < 5:\n",
    "        raise TooColdError(\"Too chilly to serve drinks!\")\n",
    "\n",
    "try:\n",
    "    check_temperature(3)\n",
    "except TooColdError as e:\n",
    "    print(\"Error:\", e)\n",
    "```\n",
    "</details>"
   ]
  },
  {
   "cell_type": "markdown",
   "id": "64603dab",
   "metadata": {},
   "source": [
    "## 🔹 4. Catching vs Ignoring Exceptions\n",
    "Always log or comment on ignored errors to avoid silent failures."
   ]
  },
  {
   "cell_type": "code",
   "execution_count": 10,
   "id": "d9d4aa9b",
   "metadata": {},
   "outputs": [
    {
     "name": "stdout",
     "output_type": "stream",
     "text": [
      "[LOG] File not found, skipping...\n"
     ]
    }
   ],
   "source": [
    "# 🎯 Challenge: Try opening a file. If not found, ignore it (but log message).\n",
    "try:\n",
    "    open(\"nonexistent.txt\")\n",
    "except FileNotFoundError:\n",
    "    print(\"[LOG] File not found, skipping...\")"
   ]
  },
  {
   "cell_type": "markdown",
   "id": "c774122a",
   "metadata": {},
   "source": [
    "<details><summary>✅ Show Answer</summary>\n",
    "\n",
    "```python\n",
    "try:\n",
    "    open(\"nonexistent.txt\")\n",
    "except FileNotFoundError:\n",
    "    print(\"[LOG] File not found, skipping...\")\n",
    "```\n",
    "</details>"
   ]
  },
  {
   "cell_type": "markdown",
   "id": "7a6afd5f",
   "metadata": {},
   "source": [
    "## 🔹 5. Writing Safe Functions with Fallback Logic\n",
    "Fail gracefully and provide meaningful defaults when needed."
   ]
  },
  {
   "cell_type": "code",
   "execution_count": null,
   "id": "5955c4cb",
   "metadata": {},
   "outputs": [
    {
     "name": "stdout",
     "output_type": "stream",
     "text": [
      "inf\n"
     ]
    }
   ],
   "source": [
    "# 🎯 Challenge: Define a safe division function that returns 'inf' when dividing by zero.\n",
    "def safe_divide(a, b):\n",
    "    try:\n",
    "        return a / b\n",
    "    except ZeroDivisionError:\n",
    "        return float('inf')\n",
    "\n",
    "print(safe_divide(10, 0))"
   ]
  },
  {
   "cell_type": "markdown",
   "id": "d16b80e3",
   "metadata": {},
   "source": [
    "<details><summary>✅ Show Answer</summary>\n",
    "\n",
    "```python\n",
    "def safe_divide(a, b):\n",
    "    try:\n",
    "        return a / b\n",
    "    except ZeroDivisionError:\n",
    "        return float('inf')\n",
    "\n",
    "print(safe_divide(10, 0))\n",
    "```\n",
    "</details>"
   ]
  }
 ],
 "metadata": {
  "kernelspec": {
   "display_name": "Python 3",
   "language": "python",
   "name": "python3"
  },
  "language_info": {
   "codemirror_mode": {
    "name": "ipython",
    "version": 3
   },
   "file_extension": ".py",
   "mimetype": "text/x-python",
   "name": "python",
   "nbconvert_exporter": "python",
   "pygments_lexer": "ipython3",
   "version": "3.12.3"
  }
 },
 "nbformat": 4,
 "nbformat_minor": 5
}
