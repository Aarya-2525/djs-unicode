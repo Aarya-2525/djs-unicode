{
 "cells": [
  {
   "cell_type": "markdown",
   "id": "e1a5a576",
   "metadata": {},
   "source": [
    "# 📦 Python Modules & Imports – Deep Dive & Challenges"
   ]
  },
  {
   "cell_type": "markdown",
   "id": "a8f04e78",
   "metadata": {},
   "source": [
    "Welcome to the deep dive into Python modules and imports! Learn to split your code across files, reuse functionality, and protect runtime logic using the `if __name__ == '__main__'` pattern. Let's modularize the madness!"
   ]
  },
  {
   "cell_type": "markdown",
   "id": "1d3853e7",
   "metadata": {},
   "source": [
    "## 🔹 1. What is a Module?\n",
    "Any `.py` file is a module!"
   ]
  },
  {
   "cell_type": "code",
   "execution_count": 1,
   "id": "3c9f2896",
   "metadata": {},
   "outputs": [],
   "source": [
    "# File: my_utils.py (create this in the same folder)\n",
    "def square(x):\n",
    "    return x * x\n",
    "\n",
    "def cube(x):\n",
    "    return x ** 3"
   ]
  },
  {
   "cell_type": "code",
   "execution_count": 2,
   "id": "4b0adf89",
   "metadata": {},
   "outputs": [
    {
     "name": "stdout",
     "output_type": "stream",
     "text": [
      "25\n",
      "27\n"
     ]
    }
   ],
   "source": [
    "# 🎯 Try importing this module in another file and call its functions:\n",
    "import my_utils\n",
    "print(my_utils.square(5))\n",
    "print(my_utils.cube(3))"
   ]
  },
  {
   "cell_type": "markdown",
   "id": "b1637ff3",
   "metadata": {},
   "source": [
    "<details><summary>✅ Expected Output</summary>\n",
    "\n",
    "```\n",
    "25\n",
    "27\n",
    "```\n",
    "</details>"
   ]
  },
  {
   "cell_type": "markdown",
   "id": "48d00329",
   "metadata": {},
   "source": [
    "## 🔹 2. Import Styles"
   ]
  },
  {
   "cell_type": "code",
   "execution_count": 3,
   "id": "1a3bacb2",
   "metadata": {},
   "outputs": [
    {
     "name": "stdout",
     "output_type": "stream",
     "text": [
      "36\n"
     ]
    }
   ],
   "source": [
    "# 🎯 Import specific function only\n",
    "from my_utils import square\n",
    "print(square(6))"
   ]
  },
  {
   "cell_type": "code",
   "execution_count": 4,
   "id": "e21041e6",
   "metadata": {},
   "outputs": [
    {
     "name": "stdout",
     "output_type": "stream",
     "text": [
      "64\n"
     ]
    }
   ],
   "source": [
    "# 🎯 Use an alias for module\n",
    "import my_utils as mu\n",
    "print(mu.cube(4))"
   ]
  },
  {
   "cell_type": "markdown",
   "id": "957a96b7",
   "metadata": {},
   "source": [
    "## 🔹 3. Absolute vs Relative Imports"
   ]
  },
  {
   "cell_type": "markdown",
   "id": "06873462",
   "metadata": {},
   "source": [
    "**Absolute Import**: from the root of your project\n",
    "```python\n",
    "from helpers.tools import format_output\n",
    "```\n",
    "\n",
    "**Relative Import**: used inside packages\n",
    "```python\n",
    "from .tools import format_output\n",
    "```\n",
    "\n",
    "⚠️ Works only when files are part of a package (i.e. folders with `__init__.py`)"
   ]
  },
  {
   "cell_type": "markdown",
   "id": "7b61eed5",
   "metadata": {},
   "source": [
    "## 🔹 4. `__name__ == '__main__'` Pattern"
   ]
  },
  {
   "cell_type": "code",
   "execution_count": 5,
   "id": "e8ca3fb3",
   "metadata": {},
   "outputs": [
    {
     "name": "stdout",
     "output_type": "stream",
     "text": [
      "Hello from inside greet()!\n"
     ]
    }
   ],
   "source": [
    "# File: greet.py\n",
    "def greet():\n",
    "    print(\"Hello from inside greet()!\")\n",
    "\n",
    "if __name__ == \"__main__\":\n",
    "    greet()  # Only runs if executed directly"
   ]
  },
  {
   "cell_type": "markdown",
   "id": "c65825b8",
   "metadata": {},
   "source": [
    "Try importing this file elsewhere and see if the function runs automatically. It shouldn't!"
   ]
  },
  {
   "cell_type": "markdown",
   "id": "2e094bea",
   "metadata": {},
   "source": [
    "## 🎯 Final Challenge:\n",
    "Create a module `math_utils.py` with `add`, `subtract`, `multiply`, `divide` functions. Use all four functions from another script using both `import` and `from ... import` styles."
   ]
  },
  {
   "cell_type": "code",
   "execution_count": 7,
   "id": "e42b5fe6",
   "metadata": {},
   "outputs": [
    {
     "name": "stdout",
     "output_type": "stream",
     "text": [
      "1\n",
      "20\n",
      "200\n",
      "12.5\n"
     ]
    }
   ],
   "source": [
    "from math_utils import add\n",
    "import math_utils as mu\n",
    "print(mu.subtract(3,2))\n",
    "print(add(9,11))\n",
    "print(mu.multiply(50,4))\n",
    "print(mu.divide(100,8))"
   ]
  }
 ],
 "metadata": {
  "kernelspec": {
   "display_name": "Python 3",
   "language": "python",
   "name": "python3"
  },
  "language_info": {
   "codemirror_mode": {
    "name": "ipython",
    "version": 3
   },
   "file_extension": ".py",
   "mimetype": "text/x-python",
   "name": "python",
   "nbconvert_exporter": "python",
   "pygments_lexer": "ipython3",
   "version": "3.12.3"
  }
 },
 "nbformat": 4,
 "nbformat_minor": 5
}
