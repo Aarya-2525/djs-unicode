{
 "cells": [
  {
   "cell_type": "markdown",
   "id": "2603a207",
   "metadata": {},
   "source": [
    "# 📂 File I/O & Context Managers – Practice Notebook\n",
    "Deepen your understanding of reading/writing files and managing resources with context managers. This notebook includes code challenges with answers to self-check.\n"
   ]
  },
  {
   "cell_type": "markdown",
   "id": "240d3326",
   "metadata": {},
   "source": [
    "## 🔹 1. Basic File Operations"
   ]
  },
  {
   "cell_type": "code",
   "execution_count": 18,
   "id": "8f95b16e",
   "metadata": {},
   "outputs": [],
   "source": [
    "# 🎯 Challenge: Write a list of tasks to a file `todo.txt`, one per line.\n",
    "tasks = [\"Learn Python\",\"Push to GitHub\", \"Solve LeetCode Problems\", \"Start learning about Stacks in Java\",\"Crack UC Interview for Backend Django!!\"]\n",
    "with open('todo.txt','w') as f:\n",
    "    for task in tasks:\n",
    "        f.write(task+'\\n')"
   ]
  },
  {
   "cell_type": "markdown",
   "id": "d25d3c8b",
   "metadata": {},
   "source": [
    "<details><summary>✅ Show Answer</summary>\n",
    "\n",
    "```python\n",
    "tasks = ['Study Python', 'Build project', 'Apply for internship']\n",
    "with open('todo.txt', 'w') as f:\n",
    "    for task in tasks:\n",
    "        f.write(task + '\\n')\n",
    "```\n",
    "</details>"
   ]
  },
  {
   "cell_type": "code",
   "execution_count": 8,
   "id": "cd26514d",
   "metadata": {},
   "outputs": [
    {
     "name": "stdout",
     "output_type": "stream",
     "text": [
      "Learn Python\n",
      "Push to GitHub\n",
      "Solve LeetCode Problems\n",
      "Start learning about Stacks in Java\n",
      "Crack UC Interview for Backend Django!!\n",
      "\n"
     ]
    }
   ],
   "source": [
    "# 🎯 Challenge: Read and print the contents of `todo.txt`\n",
    "with open('todo.txt', 'r') as f:\n",
    "    content = f.read()\n",
    "    print(content)"
   ]
  },
  {
   "cell_type": "markdown",
   "id": "f30f39b6",
   "metadata": {},
   "source": [
    "<details><summary>✅ Show Answer</summary>\n",
    "\n",
    "```python\n",
    "with open('todo.txt', 'r') as f:\n",
    "    content = f.read()\n",
    "    print(content)\n",
    "```\n",
    "</details>"
   ]
  },
  {
   "cell_type": "markdown",
   "id": "73b24d77",
   "metadata": {},
   "source": [
    "## 🔹 2. File Modes"
   ]
  },
  {
   "cell_type": "code",
   "execution_count": 9,
   "id": "013025e7",
   "metadata": {},
   "outputs": [],
   "source": [
    "# 🎯 Challenge: Append a new task to the existing file\n",
    "with open('todo.txt', 'a') as f:\n",
    "    f.write('Practice Django\\n')"
   ]
  },
  {
   "cell_type": "markdown",
   "id": "7880ed9e",
   "metadata": {},
   "source": [
    "<details><summary>✅ Show Answer</summary>\n",
    "\n",
    "```python\n",
    "with open('todo.txt', 'a') as f:\n",
    "    f.write('Practice Django\\n')\n",
    "```\n",
    "</details>"
   ]
  },
  {
   "cell_type": "markdown",
   "id": "e0fefe60",
   "metadata": {},
   "source": [
    "## 🔹 3. `readlines()` and `writelines()`"
   ]
  },
  {
   "cell_type": "code",
   "execution_count": 10,
   "id": "6337ebaa",
   "metadata": {},
   "outputs": [
    {
     "name": "stdout",
     "output_type": "stream",
     "text": [
      "['Learn Python\\n', 'Push to GitHub\\n', 'Solve LeetCode Problems\\n', 'Start learning about Stacks in Java\\n', 'Crack UC Interview for Backend Django!!\\n', 'Practice Django\\n']\n"
     ]
    }
   ],
   "source": [
    "# 🎯 Challenge: Read all tasks into a list and print it\n",
    "with open('todo.txt', 'r') as f:\n",
    "    lines = f.readlines()\n",
    "    print(lines)"
   ]
  },
  {
   "cell_type": "code",
   "execution_count": 15,
   "id": "93905f95",
   "metadata": {},
   "outputs": [],
   "source": [
    "# 🎯 Challenge: Use `writelines()` to create a new file with greetings\n",
    "lines = [\"Hi there!\\n\" , \"Hope you're doing well.\\n\"]\n",
    "with open('greet.txt', 'w') as f:\n",
    "    f.writelines(lines)"
   ]
  },
  {
   "cell_type": "markdown",
   "id": "f1ba09d2",
   "metadata": {},
   "source": [
    "## 🔹 4. Using `with open(...) as f:`"
   ]
  },
  {
   "cell_type": "code",
   "execution_count": 16,
   "id": "2e610412",
   "metadata": {},
   "outputs": [],
   "source": [
    "# 🎯 Challenge: Rewrite `todo.txt` safely with context manager and a single line\n",
    "with open('todo.txt', 'w') as f:\n",
    "    f.write('\\n'.join(['Learn Python', 'Read book', 'Sleep early']))"
   ]
  },
  {
   "cell_type": "markdown",
   "id": "dd244ea4",
   "metadata": {},
   "source": [
    "## 🔹 5. Custom Context Managers"
   ]
  },
  {
   "cell_type": "code",
   "execution_count": 20,
   "id": "8c8e4ba2",
   "metadata": {},
   "outputs": [],
   "source": [
    "# 🎯 Challenge: Implement a custom context manager that logs file access\n",
    "class FileLogger:\n",
    "    def __enter__(self):\n",
    "        self.file = open('log.txt', 'a')\n",
    "        return self.file\n",
    "    def __exit__(self, exc_type, exc_value, traceback):\n",
    "        self.file.write('Log closed.\\n')\n",
    "        self.file.close()\n",
    "\n",
    "with FileLogger() as log:\n",
    "    log.write('Opened safely!\\n')"
   ]
  },
  {
   "cell_type": "markdown",
   "id": "cddf9324",
   "metadata": {},
   "source": [
    "<details><summary>✅ Show Answer</summary>\n",
    "\n",
    "```python\n",
    "class FileLogger:\n",
    "    def __enter__(self):\n",
    "        self.file = open('log.txt', 'a')\n",
    "        return self.file\n",
    "    def __exit__(self, exc_type, exc_value, traceback):\n",
    "        self.file.write('Log closed.\\n')\n",
    "        self.file.close()\n",
    "\n",
    "with FileLogger() as log:\n",
    "    log.write('Opened safely!\\n')\n",
    "```\n",
    "</details>"
   ]
  },
  {
   "cell_type": "markdown",
   "id": "5e868a0c",
   "metadata": {},
   "source": [
    "## 🎯 Final Challenge: File I/O + Context Manager\n",
    "Create a file `journal.txt`, write 3 thoughts with time stamps, and make sure it's safely closed using a context manager."
   ]
  },
  {
   "cell_type": "code",
   "execution_count": 24,
   "id": "3e37d1ef",
   "metadata": {},
   "outputs": [],
   "source": [
    "from datetime import datetime\n",
    "class TimeStampedLogger:\n",
    "    def __enter__(self):\n",
    "        self.file = open('journal.txt','a')\n",
    "        self.time = datetime.now().strftime(\"%d-%m-%Y | %H:%M:%S\")\n",
    "        self.file.write(f\"{self.time} : Log Opened\\n\")\n",
    "        return self.file\n",
    "    def __exit__(self, exc_type, exc_value, traceback):\n",
    "        end_time = datetime.now()\n",
    "        self.file.write(f\"{self.time} : Log Closed\\n\")\n",
    "        self.file.close()\n",
    "\n",
    "with TimeStampedLogger() as tslog:\n",
    "    tslog.write(\"1. Feeling grateful for being able to pursue my hobbies\\n\")\n",
    "    tslog.write(\"2. Happy to have some time for myself\\n\")\n",
    "    tslog.write(\"3. Manifesting that I crack UC interviews!\\n\")"
   ]
  }
 ],
 "metadata": {
  "kernelspec": {
   "display_name": "Python 3",
   "language": "python",
   "name": "python3"
  },
  "language_info": {
   "codemirror_mode": {
    "name": "ipython",
    "version": 3
   },
   "file_extension": ".py",
   "mimetype": "text/x-python",
   "name": "python",
   "nbconvert_exporter": "python",
   "pygments_lexer": "ipython3",
   "version": "3.12.3"
  }
 },
 "nbformat": 4,
 "nbformat_minor": 5
}
