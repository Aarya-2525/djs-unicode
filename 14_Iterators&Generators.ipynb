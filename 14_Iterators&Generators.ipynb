{
 "cells": [
  {
   "cell_type": "markdown",
   "id": "227adcae",
   "metadata": {},
   "source": [
    "# 🔄 Iterators & Generators – Challenge Notebook\n",
    "Master Python's lazy evaluation and iterable protocol with these practice problems.\n",
    "👉 Try solving each yourself, then reveal the answers in the dropdown!"
   ]
  },
  {
   "cell_type": "markdown",
   "id": "48c0aefa",
   "metadata": {},
   "source": [
    "## 🧩 1. Iterables vs Iterators"
   ]
  },
  {
   "cell_type": "code",
   "execution_count": 3,
   "id": "5236b2b6",
   "metadata": {},
   "outputs": [
    {
     "name": "stdout",
     "output_type": "stream",
     "text": [
      "red\n",
      "green\n",
      "blue\n"
     ]
    }
   ],
   "source": [
    "# 🎯 Challenge: Turn this list into an iterator and manually print all elements using next()\n",
    "colors = ['red', 'green', 'blue']\n",
    "# Your code here\n",
    "it = iter(colors)\n",
    "print(next(it))\n",
    "print(next(it))\n",
    "print(next(it))\n"
   ]
  },
  {
   "cell_type": "markdown",
   "id": "fef84a05",
   "metadata": {},
   "source": [
    "<details><summary>✅ Show Answer</summary>\n",
    "\n",
    "```python\n",
    "it = iter(colors)\n",
    "print(next(it))\n",
    "print(next(it))\n",
    "print(next(it))\n",
    "```\n",
    "</details>"
   ]
  },
  {
   "cell_type": "markdown",
   "id": "679c1301",
   "metadata": {},
   "source": [
    "## 🧩 2. Custom Iterator Class"
   ]
  },
  {
   "cell_type": "code",
   "execution_count": 6,
   "id": "aa43faf6",
   "metadata": {},
   "outputs": [
    {
     "name": "stdout",
     "output_type": "stream",
     "text": [
      "1\n",
      "2\n",
      "3\n",
      "4\n",
      "5\n"
     ]
    }
   ],
   "source": [
    "# 🎯 Challenge: Create an iterator class that counts from 1 to `max` (inclusive)\n",
    "class CountUpTo:\n",
    "    def __init__(self, max):\n",
    "        self.max = max\n",
    "        self.current = 1\n",
    "\n",
    "    def __iter__(self):\n",
    "        # Your code here\n",
    "        return self\n",
    "\n",
    "    def __next__(self):\n",
    "        # Your code here\n",
    "        if self.current>self.max:\n",
    "            raise StopIteration\n",
    "        else:\n",
    "            val = self.current\n",
    "            self.current+=1\n",
    "            return val\n",
    "\n",
    "# Try it\n",
    "for num in CountUpTo(5):\n",
    "    print(num)"
   ]
  },
  {
   "cell_type": "markdown",
   "id": "0f3e1b84",
   "metadata": {},
   "source": [
    "<details><summary>✅ Show Answer</summary>\n",
    "\n",
    "```python\n",
    "class CountUpTo:\n",
    "    def __init__(self, max):\n",
    "        self.max = max\n",
    "        self.current = 1\n",
    "\n",
    "    def __iter__(self):\n",
    "        return self\n",
    "\n",
    "    def __next__(self):\n",
    "        if self.current > self.max:\n",
    "            raise StopIteration\n",
    "        val = self.current\n",
    "        self.current += 1\n",
    "        return val\n",
    "```\n",
    "</details>"
   ]
  },
  {
   "cell_type": "markdown",
   "id": "bebe8afb",
   "metadata": {},
   "source": [
    "## 🧩 3. Generator Function"
   ]
  },
  {
   "cell_type": "code",
   "execution_count": 8,
   "id": "d71bd93a",
   "metadata": {},
   "outputs": [
    {
     "name": "stdout",
     "output_type": "stream",
     "text": [
      "1\n",
      "4\n",
      "9\n",
      "16\n",
      "25\n"
     ]
    }
   ],
   "source": [
    "# 🎯 Challenge: Write a generator that yields squares of numbers up to `n`\n",
    "def square_gen(n):\n",
    "    # Your code here\n",
    "    return (x*x for x in range(1,n+1))\n",
    "\n",
    "# Try it\n",
    "g = square_gen(5)\n",
    "for val in g:\n",
    "    print(val)"
   ]
  },
  {
   "cell_type": "markdown",
   "id": "e3558904",
   "metadata": {},
   "source": [
    "<details><summary>✅ Show Answer</summary>\n",
    "\n",
    "```python\n",
    "def square_gen(n):\n",
    "    for i in range(n + 1):\n",
    "        yield i * i\n",
    "```\n",
    "</details>"
   ]
  },
  {
   "cell_type": "markdown",
   "id": "31e9f6cc",
   "metadata": {},
   "source": [
    "## 🧩 4. Generator Expression"
   ]
  },
  {
   "cell_type": "code",
   "execution_count": 9,
   "id": "ca26188b",
   "metadata": {},
   "outputs": [
    {
     "name": "stdout",
     "output_type": "stream",
     "text": [
      "1\n",
      "27\n",
      "125\n",
      "343\n",
      "729\n"
     ]
    }
   ],
   "source": [
    "# 🎯 Challenge: Create a generator expression to cube odd numbers from 1 to 10\n",
    "# Your code here\n",
    "odds = (x**3 for x in range(1, 11) if x % 2 != 0)\n",
    "for val in odds:\n",
    "    print(val)"
   ]
  },
  {
   "cell_type": "markdown",
   "id": "7fddfb04",
   "metadata": {},
   "source": [
    "<details><summary>✅ Show Answer</summary>\n",
    "\n",
    "```python\n",
    "odds = (x**3 for x in range(1, 11) if x % 2 != 0)\n",
    "for val in odds:\n",
    "    print(val)\n",
    "```\n",
    "</details>"
   ]
  },
  {
   "cell_type": "markdown",
   "id": "00ed1139",
   "metadata": {},
   "source": [
    "## 🧠 5. Why Generators are Memory Efficient"
   ]
  },
  {
   "cell_type": "code",
   "execution_count": null,
   "id": "eca795aa",
   "metadata": {},
   "outputs": [
    {
     "name": "stdout",
     "output_type": "stream",
     "text": [
      "List:  8448728\n",
      "Generator:  192\n"
     ]
    }
   ],
   "source": [
    "# 🎯 Challenge: Compare memory size of list vs generator (use sys.getsizeof)\n",
    "import sys\n",
    "\n",
    "lst = [x for x in range(1000000)]\n",
    "gen = (x for x in range(1000000))\n",
    "\n",
    "print(\"List: \", sys.getsizeof(lst))\n",
    "print(\"Generator: \", sys.getsizeof(gen))"
   ]
  },
  {
   "cell_type": "markdown",
   "id": "48b29f44",
   "metadata": {},
   "source": [
    "<details><summary>✅ Show Answer</summary>\n",
    "\n",
    "```python\n",
    "# Lists store all items: ~32MB\n",
    "# Generators are just an iterator object: ~112 bytes\n",
    "```\n",
    "</details>"
   ]
  },
  {
   "cell_type": "markdown",
   "id": "ab357008",
   "metadata": {},
   "source": [
    "## 🎯 Final Boss: Infinite Fibonacci Generator"
   ]
  },
  {
   "cell_type": "code",
   "execution_count": 12,
   "id": "9aec52e8",
   "metadata": {},
   "outputs": [
    {
     "name": "stdout",
     "output_type": "stream",
     "text": [
      "0\n",
      "1\n",
      "1\n",
      "2\n",
      "3\n",
      "5\n",
      "8\n",
      "13\n",
      "21\n",
      "34\n"
     ]
    }
   ],
   "source": [
    "# 🎯 Challenge: Create a generator function for infinite Fibonacci numbers\n",
    "# Hint: use a while True loop and yield\n",
    "def fibonacci():\n",
    "    # Your code here\n",
    "    a,b = 0,1\n",
    "    while True:\n",
    "        yield a\n",
    "        a,b = b, a+b \n",
    "\n",
    "# Try it:\n",
    "f = fibonacci()\n",
    "for i in range(10):\n",
    "    print(next(f))"
   ]
  },
  {
   "cell_type": "markdown",
   "id": "8a3dc71f",
   "metadata": {},
   "source": [
    "<details><summary>✅ Show Answer</summary>\n",
    "\n",
    "```python\n",
    "def fibonacci():\n",
    "    a, b = 0, 1\n",
    "    while True:\n",
    "        yield a\n",
    "        a, b = b, a + b\n",
    "```\n",
    "</details>"
   ]
  }
 ],
 "metadata": {
  "kernelspec": {
   "display_name": "Python 3",
   "language": "python",
   "name": "python3"
  },
  "language_info": {
   "codemirror_mode": {
    "name": "ipython",
    "version": 3
   },
   "file_extension": ".py",
   "mimetype": "text/x-python",
   "name": "python",
   "nbconvert_exporter": "python",
   "pygments_lexer": "ipython3",
   "version": "3.12.3"
  }
 },
 "nbformat": 4,
 "nbformat_minor": 5
}
