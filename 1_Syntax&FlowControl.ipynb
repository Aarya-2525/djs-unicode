{
 "cells": [
  {
   "cell_type": "markdown",
   "id": "69b4f2bc",
   "metadata": {},
   "source": [
    "# 🐍 Python Fundamentals Drill Notebook - Part 1: Syntax & Flow Control\n",
    "---\n",
    "Welcome to your custom Python training ground, Aarya! This notebook is designed to sharpen your grip on flow control, loops, and conditions with 💡 challenges, 🧪 code drills, and 🎯 debug missions.\n",
    "\n",
    "Let's dive in! 🔥"
   ]
  },
  {
   "cell_type": "markdown",
   "id": "dd969b55",
   "metadata": {},
   "source": [
    "## 🔁 1. If-Elif-Else Logic Challenge\n",
    "Write a program that takes a user's age and:\n",
    "- If under 18: prints \"Too young for cocktails\"\n",
    "- If 18 to 60: prints \"Perfect age to enjoy responsibly\"\n",
    "- If above 60: prints \"Age is just a number – cheers!\"\n",
    "\n",
    "### Your Code ⬇️"
   ]
  },
  {
   "cell_type": "code",
   "execution_count": 3,
   "id": "58d50ee4",
   "metadata": {},
   "outputs": [
    {
     "name": "stdout",
     "output_type": "stream",
     "text": [
      "Age is just a number – cheers!\n"
     ]
    }
   ],
   "source": [
    "# 🧪 Write your solution here\n",
    "age = int(input(\"Enter your age: \"))\n",
    "# TODO: Write if-elif-else logic here\n",
    "if age<18:\n",
    "    print(\"Too young for cocktails\")\n",
    "elif age>=18 and age<=60:\n",
    "    print(\"Perfect age to enjoy responsibly\")\n",
    "else:\n",
    "    print(\"Age is just a number – cheers!\")"
   ]
  },
  {
   "cell_type": "markdown",
   "id": "6094852b",
   "metadata": {},
   "source": [
    "### ✅ Show Solution (Click to Reveal)\n",
    "<details>\n",
    "<summary>Answer</summary>\n",
    "\n",
    "```python\n",
    "if age < 18:\n",
    "    print(\"Too young for cocktails\")\n",
    "elif age <= 60:\n",
    "    print(\"Perfect age to enjoy responsibly\")\n",
    "else:\n",
    "    print(\"Age is just a number – cheers!\")\n",
    "```\n",
    "</details>"
   ]
  },
  {
   "cell_type": "markdown",
   "id": "c0a14b86",
   "metadata": {},
   "source": [
    "## 🔁 2. Countdown Challenge\n",
    "Use a `for` loop to count down from 10 to 1 and print \"Shake!\" on each count."
   ]
  },
  {
   "cell_type": "code",
   "execution_count": 4,
   "id": "284a76e9",
   "metadata": {},
   "outputs": [
    {
     "name": "stdout",
     "output_type": "stream",
     "text": [
      "10) Shake!\n",
      "9) Shake!\n",
      "8) Shake!\n",
      "7) Shake!\n",
      "6) Shake!\n",
      "5) Shake!\n",
      "4) Shake!\n",
      "3) Shake!\n",
      "2) Shake!\n",
      "1) Shake!\n"
     ]
    }
   ],
   "source": [
    "# Your Code Here\n",
    "for i in range(10,0,-1):\n",
    "    print(f\"{i}) Shake!\")"
   ]
  },
  {
   "cell_type": "markdown",
   "id": "79a4b886",
   "metadata": {},
   "source": [
    "### ✅ Show Solution\n",
    "<details>\n",
    "<summary>Answer</summary>\n",
    "\n",
    "```python\n",
    "for i in range(10, 0, -1):\n",
    "    print(f\"{i}: Shake!\")\n",
    "```\n",
    "</details>"
   ]
  },
  {
   "cell_type": "markdown",
   "id": "42dad2c8",
   "metadata": {},
   "source": [
    "## 🐛 3. Debug Me: Indentation Error\n",
    "Fix the code below so it runs correctly."
   ]
  },
  {
   "cell_type": "code",
   "execution_count": 5,
   "id": "5828a80b",
   "metadata": {},
   "outputs": [
    {
     "name": "stdout",
     "output_type": "stream",
     "text": [
      "This line is wrongly indented\n"
     ]
    }
   ],
   "source": [
    "x = 5\n",
    "if x > 3:\n",
    "    print(\"This line is wrongly indented\")"
   ]
  },
  {
   "cell_type": "markdown",
   "id": "506b49c2",
   "metadata": {},
   "source": [
    "### ✅ Fix Explanation\n",
    "<details>\n",
    "<summary>Answer</summary>\n",
    "\n",
    "```python\n",
    "x = 5\n",
    "if x > 3:\n",
    "    print(\"This line is wrongly indented\")\n",
    "```\n",
    "</details>"
   ]
  },
  {
   "cell_type": "markdown",
   "id": "d8fdb2b6",
   "metadata": {},
   "source": [
    "## 🤝 4. Use `enumerate()` and `zip()`\n",
    "Create a list of drinks and customers. Use zip to print \"Serving {drink} to {customer}\"."
   ]
  },
  {
   "cell_type": "code",
   "execution_count": 6,
   "id": "2ae60880",
   "metadata": {},
   "outputs": [
    {
     "name": "stdout",
     "output_type": "stream",
     "text": [
      "Serving LIIT to Aarushi.\n",
      "Serving Mojito to Rahul.\n",
      "Serving Negroni to Nitya.\n"
     ]
    }
   ],
   "source": [
    "# Example lists\n",
    "drinks = [\"LIIT\", \"Mojito\", \"Negroni\"]\n",
    "customers = [\"Aarushi\", \"Rahul\", \"Nitya\"]\n",
    "\n",
    "# TODO: Use zip\n",
    "for drink, customer in zip(drinks, customers):\n",
    "    print(f\"Serving {drink} to {customer}.\")"
   ]
  },
  {
   "cell_type": "markdown",
   "id": "40f0b311",
   "metadata": {},
   "source": [
    "### ✅ Solution\n",
    "<details>\n",
    "<summary>Answer</summary>\n",
    "\n",
    "```python\n",
    "for drink, person in zip(drinks, customers):\n",
    "    print(f\"Serving {drink} to {person}\")\n",
    "```\n",
    "</details>"
   ]
  },
  {
   "cell_type": "markdown",
   "id": "40bdfde7",
   "metadata": {},
   "source": [
    "## 🧠 5. Loop Puzzle\n",
    "What does this print?\n",
    "\n",
    "```python\n",
    "for i in range(3):\n",
    "    print(i)\n",
    "    i += 1\n",
    "```\n",
    "\n",
    "### 📝 Write your answer below:"
   ]
  },
  {
   "cell_type": "code",
   "execution_count": 7,
   "id": "74236793",
   "metadata": {},
   "outputs": [
    {
     "data": {
      "text/plain": [
       "2"
      ]
     },
     "execution_count": 7,
     "metadata": {},
     "output_type": "execute_result"
    }
   ],
   "source": [
    "# Your Answer: Explain what will happen\n",
    "0\n",
    "1\n",
    "2"
   ]
  },
  {
   "cell_type": "markdown",
   "id": "29e383b8",
   "metadata": {},
   "source": [
    "### ✅ Explanation\n",
    "<details>\n",
    "<summary>Answer</summary>\n",
    "\n",
    "Even though we do `i += 1`, it doesn't affect the `range()` generator. It prints:\n",
    "```\n",
    "0\n",
    "1\n",
    "2\n",
    "```\n",
    "</details>"
   ]
  },
  {
   "cell_type": "markdown",
   "id": "88f1f909",
   "metadata": {},
   "source": [
    "## 🧩 6. Bonus: Range Logic\n",
    "Print all even numbers from 20 to 2 (descending) using `range()`."
   ]
  },
  {
   "cell_type": "code",
   "execution_count": 8,
   "id": "0d922581",
   "metadata": {},
   "outputs": [
    {
     "name": "stdout",
     "output_type": "stream",
     "text": [
      "20\n",
      "18\n",
      "16\n",
      "14\n",
      "12\n",
      "10\n",
      "8\n",
      "6\n",
      "4\n",
      "2\n"
     ]
    }
   ],
   "source": [
    "# Your Code Here\n",
    "for i in range(20,1,-2):\n",
    "    print(i)"
   ]
  },
  {
   "cell_type": "markdown",
   "id": "29d18aa8",
   "metadata": {},
   "source": [
    "### ✅ Solution\n",
    "<details>\n",
    "<summary>Answer</summary>\n",
    "\n",
    "```python\n",
    "for i in range(20, 1, -2):\n",
    "    print(i)\n",
    "```\n",
    "</details>"
   ]
  },
  {
   "cell_type": "markdown",
   "id": "97640dfa",
   "metadata": {},
   "source": [
    "## 🎉 Great Job!\n",
    "Once you’ve completed all cells, you’ll have a powerful grasp of flow control in Python. Ready to move to Topic 2 when you are. 🐍💪"
   ]
  }
 ],
 "metadata": {
  "kernelspec": {
   "display_name": "Python 3",
   "language": "python",
   "name": "python3"
  },
  "language_info": {
   "codemirror_mode": {
    "name": "ipython",
    "version": 3
   },
   "file_extension": ".py",
   "mimetype": "text/x-python",
   "name": "python",
   "nbconvert_exporter": "python",
   "pygments_lexer": "ipython3",
   "version": "3.12.3"
  }
 },
 "nbformat": 4,
 "nbformat_minor": 5
}
