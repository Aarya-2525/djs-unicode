{
 "cells": [
  {
   "cell_type": "markdown",
   "id": "8ae2b4ee",
   "metadata": {},
   "source": [
    "# 🧪 Python Fundamentals Drill Notebook - Part 2: Data Types & Type Conversion\n",
    "---\n",
    "Welcome back, Aarya! This notebook dives deep into Python's core data types, type conversions, and those sneaky details that most people overlook. Let's get typing (pun intended)! 🐍"
   ]
  },
  {
   "cell_type": "markdown",
   "id": "e099eed9",
   "metadata": {},
   "source": [
    "## 🔍 1. Type Identification\n",
    "Write code to print the type of the following values: `5`, `3.14`, `'5'`, `True`, `3 + 0j`"
   ]
  },
  {
   "cell_type": "code",
   "execution_count": null,
   "id": "4ecb7ba3",
   "metadata": {},
   "outputs": [
    {
     "name": "stdout",
     "output_type": "stream",
     "text": [
      "<class 'int'>\n",
      "<class 'float'>\n",
      "<class 'str'>\n",
      "<class 'bool'>\n",
      "<class 'complex'>\n"
     ]
    }
   ],
   "source": [
    "print(type(5)) #int\n",
    "print(type(3.14)) #float\n",
    "print(type(\"5\")) #str\n",
    "print(type(True)) #bool\n",
    "print(type(3 + 0j)) #complex"
   ]
  },
  {
   "cell_type": "markdown",
   "id": "99f6ae64",
   "metadata": {},
   "source": [
    "### ✅ Expected Output\n",
    "<details>\n",
    "<summary>Answer</summary>\n",
    "\n",
    "```\n",
    "<class 'int'>\n",
    "<class 'float'>\n",
    "<class 'str'>\n",
    "<class 'bool'>\n",
    "<class 'complex'>\n",
    "```\n",
    "</details>"
   ]
  },
  {
   "cell_type": "markdown",
   "id": "7d000bc5",
   "metadata": {},
   "source": [
    "## 🐛 2. Debug Me: Fix the TypeError\n",
    "Fix this code that crashes due to mixing types:"
   ]
  },
  {
   "cell_type": "code",
   "execution_count": null,
   "id": "6ae4997e",
   "metadata": {},
   "outputs": [
    {
     "name": "stdout",
     "output_type": "stream",
     "text": [
      "You’ll be 17 in 5 years\n"
     ]
    }
   ],
   "source": [
    "age = input(\"Enter your age: \") # or int(input()) works as well\n",
    "total = int(age) + 5\n",
    "print(\"You’ll be\", total, \"in 5 years\")"
   ]
  },
  {
   "cell_type": "markdown",
   "id": "525b5a5e",
   "metadata": {},
   "source": [
    "### ✅ Fix\n",
    "<details>\n",
    "<summary>Answer</summary>\n",
    "\n",
    "```python\n",
    "age = int(input(\"Enter your age: \"))\n",
    "total = age + 5\n",
    "print(\"You’ll be\", total, \"in 5 years\")\n",
    "```\n",
    "</details>"
   ]
  },
  {
   "cell_type": "markdown",
   "id": "f7157ab9",
   "metadata": {},
   "source": [
    "## 🤔 3. Truthy vs Falsy\n",
    "Which of these will evaluate to `False` in an if statement? Try and write code to verify: `''`, `' '`, `0`, `None`, `[]`, `[0]`, `{}`"
   ]
  },
  {
   "cell_type": "code",
   "execution_count": 8,
   "id": "67dd315f",
   "metadata": {},
   "outputs": [
    {
     "name": "stdout",
     "output_type": "stream",
     "text": [
      "Falsy\n",
      "Truthy\n"
     ]
    }
   ],
   "source": [
    "# Write if-checks for each value and print if they are Truthy or Falsy\n",
    "if None:\n",
    "    print(\"Truthy\")\n",
    "else:\n",
    "    print(\"Falsy\")\n",
    "\n",
    "if ' ':\n",
    "    print(\"Truthy\")\n",
    "else:\n",
    "    print(\"Falsy\")"
   ]
  },
  {
   "cell_type": "markdown",
   "id": "5ff33feb",
   "metadata": {},
   "source": [
    "### ✅ Answer\n",
    "<details>\n",
    "<summary>Explanation</summary>\n",
    "\n",
    "Falsy values include: `''`, `0`, `None`, `[]`, `{}`\n",
    "Truthy: `' '`, `[0]`\n",
    "</details>"
   ]
  },
  {
   "cell_type": "markdown",
   "id": "4c1e2b8f",
   "metadata": {},
   "source": [
    "## 🧬 4. isinstance() vs type()\n",
    "What’s the difference between these two?\n",
    "Try this example:"
   ]
  },
  {
   "cell_type": "code",
   "execution_count": null,
   "id": "4b394c28",
   "metadata": {},
   "outputs": [
    {
     "name": "stdout",
     "output_type": "stream",
     "text": [
      "True\n",
      "False\n"
     ]
    }
   ],
   "source": [
    "print(isinstance(True, int)) #bool is inherited from int, since 0 -> False & 1 -> True\n",
    "print(type(True) == int)"
   ]
  },
  {
   "cell_type": "markdown",
   "id": "d30ffe2d",
   "metadata": {},
   "source": [
    "### ✅ Explanation\n",
    "<details>\n",
    "<summary>Answer</summary>\n",
    "\n",
    "`bool` is a subclass of `int`, so:\n",
    "\n",
    "- `isinstance(True, int)` → `True`\n",
    "- `type(True) == int` → `False`\n",
    "</details>"
   ]
  },
  {
   "cell_type": "markdown",
   "id": "acc1e1d5",
   "metadata": {},
   "source": [
    "## 💰 5. Convert Price String and Add Tax\n",
    "Convert the price from string to float and calculate final price with 18% tax."
   ]
  },
  {
   "cell_type": "code",
   "execution_count": 12,
   "id": "66b83e9b",
   "metadata": {},
   "outputs": [
    {
     "name": "stdout",
     "output_type": "stream",
     "text": [
      "294.99\n"
     ]
    }
   ],
   "source": [
    "price = \"249.99\"\n",
    "tax = 18  # percent\n",
    "# TODO: Calculate final price with tax added\n",
    "price = float(price)\n",
    "price += price*(tax/100)\n",
    "print(round(price,2))"
   ]
  },
  {
   "cell_type": "markdown",
   "id": "5b6ba9f5",
   "metadata": {},
   "source": [
    "### ✅ Solution\n",
    "<details>\n",
    "<summary>Answer</summary>\n",
    "\n",
    "```python\n",
    "price = float(price)\n",
    "final_price = price * (1 + tax / 100)\n",
    "print(round(final_price, 2))\n",
    "```\n",
    "</details>"
   ]
  },
  {
   "cell_type": "markdown",
   "id": "54dc3b61",
   "metadata": {},
   "source": [
    "## ✅ 6. Falsy Checker Function\n",
    "Write a function that returns `True` if the input is falsy."
   ]
  },
  {
   "cell_type": "code",
   "execution_count": 16,
   "id": "10f4b64b",
   "metadata": {},
   "outputs": [],
   "source": [
    "def is_falsy(val):\n",
    "    # TODO: return True if val is falsy, else False\n",
    "    return not bool(val)"
   ]
  },
  {
   "cell_type": "markdown",
   "id": "84e972c0",
   "metadata": {},
   "source": [
    "### ✅ Answer\n",
    "<details>\n",
    "<summary>Solution</summary>\n",
    "\n",
    "```python\n",
    "def is_falsy(val):\n",
    "    return not bool(val)\n",
    "```\n",
    "</details>"
   ]
  },
  {
   "cell_type": "markdown",
   "id": "f845f85c",
   "metadata": {},
   "source": [
    "## 🌳 7. Type Inheritance Tree\n",
    "Here's the text version of Python's core type hierarchy. Re-type it below and mark what surprises you."
   ]
  },
  {
   "cell_type": "code",
   "execution_count": 17,
   "id": "1e532da0",
   "metadata": {},
   "outputs": [
    {
     "name": "stdout",
     "output_type": "stream",
     "text": [
      "(<class 'int'>,)\n",
      "(<class 'object'>,)\n"
     ]
    }
   ],
   "source": [
    "print(bool.__bases__)\n",
    "print(int.__bases__)"
   ]
  },
  {
   "cell_type": "markdown",
   "id": "28473623",
   "metadata": {},
   "source": [
    "### ✅ Tree\n",
    "<details>\n",
    "<summary>Hierarchy</summary>\n",
    "\n",
    "```\n",
    "object\n",
    "│\n",
    "├── int\n",
    "│   └── bool\n",
    "├── float\n",
    "├── complex\n",
    "├── str\n",
    "├── list\n",
    "├── tuple\n",
    "├── dict\n",
    "├── set\n",
    "└── ...\n",
    "```\n",
    "</details>"
   ]
  },
  {
   "cell_type": "markdown",
   "id": "a158e143",
   "metadata": {},
   "source": [
    "## 🎉 Well Done!\n",
    "You’ve completed the deep dive into Python's data types and conversion logic. These are foundations that even experienced devs often forget to solidify — but not you! 🧠🔥"
   ]
  }
 ],
 "metadata": {
  "kernelspec": {
   "display_name": "Python 3",
   "language": "python",
   "name": "python3"
  },
  "language_info": {
   "codemirror_mode": {
    "name": "ipython",
    "version": 3
   },
   "file_extension": ".py",
   "mimetype": "text/x-python",
   "name": "python",
   "nbconvert_exporter": "python",
   "pygments_lexer": "ipython3",
   "version": "3.12.3"
  }
 },
 "nbformat": 4,
 "nbformat_minor": 5
}
