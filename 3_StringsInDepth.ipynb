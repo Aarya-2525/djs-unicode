{
 "cells": [
  {
   "cell_type": "markdown",
   "id": "c5365bff",
   "metadata": {},
   "source": [
    "# 🔤 Python Fundamentals Drill Notebook - Part 3: Strings Mastery\n",
    "Welcome, Aarya! In this notebook, we deep dive into everything about strings — slicing, formatting, common bugs, and more. Ready to bend text to your will? Let's go! 💪"
   ]
  },
  {
   "cell_type": "markdown",
   "id": "7d2191d5",
   "metadata": {},
   "source": [
    "## 🔐 1. String Immutability\n",
    "Try changing the first letter of a string directly. What happens?"
   ]
  },
  {
   "cell_type": "code",
   "execution_count": 3,
   "id": "4b4d8d25",
   "metadata": {},
   "outputs": [
    {
     "name": "stdout",
     "output_type": "stream",
     "text": [
      "Jython\n"
     ]
    }
   ],
   "source": [
    "s = \"Python\"\n",
    "#s[0] = 'J'  # TypeError\n",
    "s = \"Jython\"\n",
    "print(s)"
   ]
  },
  {
   "cell_type": "markdown",
   "id": "5d4d733c",
   "metadata": {},
   "source": [
    "### ✅ Explanation\n",
    "<details>\n",
    "<summary>Answer</summary>\n",
    "\n",
    "Strings are immutable. You cannot modify them in-place — you'll get a `TypeError`.\n",
    "</details>"
   ]
  },
  {
   "cell_type": "markdown",
   "id": "890430aa",
   "metadata": {},
   "source": [
    "## ✂️ 2. Slicing Challenge\n",
    "Given the string `s = \"LongIslandIcedTea\"`:\n",
    "- Get `'Island'`\n",
    "- Get `'Iced'`\n",
    "- Get `'Long Tea'` (combine using slicing + concatenation)"
   ]
  },
  {
   "cell_type": "code",
   "execution_count": 4,
   "id": "5f48cc67",
   "metadata": {},
   "outputs": [
    {
     "name": "stdout",
     "output_type": "stream",
     "text": [
      "Island\n",
      "Iced\n",
      "Long Tea\n"
     ]
    }
   ],
   "source": [
    "s = \"LongIslandIcedTea\"\n",
    "# TODO: Slice to get each result\n",
    "print(s[4:10])\n",
    "print(s[10:14])\n",
    "print(s[:4] + \" \" + s[-3:])"
   ]
  },
  {
   "cell_type": "markdown",
   "id": "519218e0",
   "metadata": {},
   "source": [
    "### ✅ Solution\n",
    "<details>\n",
    "<summary>Answer</summary>\n",
    "\n",
    "```python\n",
    "a = s[4:10]        # 'Island'\n",
    "b = s[10:14]       # 'Iced'\n",
    "c = s[0:4] + ' ' + s[14:]  # 'Long Tea'\n",
    "```\n",
    "</details>"
   ]
  },
  {
   "cell_type": "markdown",
   "id": "4367fcc0",
   "metadata": {},
   "source": [
    "## 🧹 3. Cleaning Input\n",
    "Transform `msg = \"   HElLo, WorLD   \"` into `\"hello, world\"`"
   ]
  },
  {
   "cell_type": "code",
   "execution_count": 5,
   "id": "03a49df6",
   "metadata": {},
   "outputs": [
    {
     "name": "stdout",
     "output_type": "stream",
     "text": [
      "hello, world\n"
     ]
    }
   ],
   "source": [
    "msg = \"   HElLo, WorLD   \"\n",
    "# Clean and normalize the string\n",
    "print(msg.strip().lower())"
   ]
  },
  {
   "cell_type": "markdown",
   "id": "6fef8616",
   "metadata": {},
   "source": [
    "### ✅ Answer\n",
    "<details>\n",
    "<summary>Solution</summary>\n",
    "\n",
    "```python\n",
    "clean = msg.strip().lower()\n",
    "```\n",
    "</details>"
   ]
  },
  {
   "cell_type": "markdown",
   "id": "f7d062d5",
   "metadata": {},
   "source": [
    "## 🎯 4. String Formatting Styles\n",
    "Recreate this sentence using all 3 formatting styles:\n",
    "- `Aarya ordered a LIIT.`"
   ]
  },
  {
   "cell_type": "code",
   "execution_count": 8,
   "id": "488dfcd7",
   "metadata": {},
   "outputs": [
    {
     "name": "stdout",
     "output_type": "stream",
     "text": [
      "Aarya ordered a LIIT.\n"
     ]
    }
   ],
   "source": [
    "# TODO: Use % formatting, .format(), and f-strings\n",
    "name = \"Aarya\"\n",
    "drink = \"LIIT\"\n",
    "\"%s ordered a %s.\" % (name,drink)\n",
    "\"{} ordered a {}.\".format(name,drink)\n",
    "print(f\"{name} ordered a {drink}.\")"
   ]
  },
  {
   "cell_type": "markdown",
   "id": "98d43cf3",
   "metadata": {},
   "source": [
    "### ✅ Answer\n",
    "<details>\n",
    "<summary>Solutions</summary>\n",
    "\n",
    "```python\n",
    "\"%s ordered a %s\" % (\"Aarya\", \"LIIT\")\n",
    "\"{} ordered a {}\".format(\"Aarya\", \"LIIT\")\n",
    "f\"Aarya ordered a LIIT\"\n",
    "```\n",
    "</details>"
   ]
  },
  {
   "cell_type": "markdown",
   "id": "29083110",
   "metadata": {},
   "source": [
    "## 🐛 5. Case-Sensitive Match\n",
    "Why doesn't this work?\n",
    "```python\n",
    "cocktail = \"Martini\"\n",
    "if \"martini\" in cocktail:\n",
    "    print(\"Found!\")\n",
    "```"
   ]
  },
  {
   "cell_type": "code",
   "execution_count": 9,
   "id": "21e0006f",
   "metadata": {},
   "outputs": [
    {
     "name": "stdout",
     "output_type": "stream",
     "text": [
      "Found!\n"
     ]
    }
   ],
   "source": [
    "# Fix it below:\n",
    "cocktail = \"Martini\"\n",
    "if \"martini\" in cocktail.lower():\n",
    "    print(\"Found!\")"
   ]
  },
  {
   "cell_type": "markdown",
   "id": "99491f4d",
   "metadata": {},
   "source": [
    "### ✅ Answer\n",
    "<details>\n",
    "<summary>Fix</summary>\n",
    "\n",
    "```python\n",
    "if \"martini\" in cocktail.lower():\n",
    "    print(\"Found!\")\n",
    "```\n",
    "</details>"
   ]
  },
  {
   "cell_type": "markdown",
   "id": "9e640cf7",
   "metadata": {},
   "source": [
    "## 🧪 6. Split, Join, Replace\n",
    "Given `sentence = \"Shaken not stirred\"`:\n",
    "- Split into list\n",
    "- Join with hyphens\n",
    "- Replace `not` with `and`"
   ]
  },
  {
   "cell_type": "code",
   "execution_count": 13,
   "id": "914a3d27",
   "metadata": {},
   "outputs": [
    {
     "name": "stdout",
     "output_type": "stream",
     "text": [
      "Shaken-not-stirred\n",
      "Shaken and stirred\n"
     ]
    }
   ],
   "source": [
    "sentence = \"Shaken not stirred\"\n",
    "# TODO: split, join, replace\n",
    "words = sentence.split(\" \")\n",
    "hyphens = \"-\".join(words)\n",
    "rep = sentence.replace(\"not\",\"and\")\n",
    "\n",
    "print(hyphens)\n",
    "print(rep)"
   ]
  },
  {
   "cell_type": "markdown",
   "id": "35dcbc95",
   "metadata": {},
   "source": [
    "### ✅ Answer\n",
    "<details>\n",
    "<summary>Solution</summary>\n",
    "\n",
    "```python\n",
    "words = sentence.split()\n",
    "hyphenated = \"-\".join(words)\n",
    "replaced = sentence.replace(\"not\", \"and\")\n",
    "```\n",
    "</details>"
   ]
  },
  {
   "cell_type": "markdown",
   "id": "ee4c3ede",
   "metadata": {},
   "source": [
    "## 🐍 7. Replace Trap\n",
    "Why doesn't this change the original string?\n",
    "```python\n",
    "text = \"Cocktail: LIIT, Cocktail: Mojito\"\n",
    "text.replace(\"Cocktail\", \"Drink\")\n",
    "print(text)\n",
    "```"
   ]
  },
  {
   "cell_type": "code",
   "execution_count": 11,
   "id": "28c1c96e",
   "metadata": {},
   "outputs": [
    {
     "name": "stdout",
     "output_type": "stream",
     "text": [
      "Drink: LIIT, Drink: Mojito\n"
     ]
    }
   ],
   "source": [
    "text = \"Cocktail: LIIT, Cocktail: Mojito\"\n",
    "text = text.replace(\"Cocktail\", \"Drink\")\n",
    "print(text)"
   ]
  },
  {
   "cell_type": "markdown",
   "id": "ff4496bc",
   "metadata": {},
   "source": [
    "### ✅ Fix\n",
    "<details>\n",
    "<summary>Fix</summary>\n",
    "\n",
    "```python\n",
    "text = text.replace(\"Cocktail\", \"Drink\")\n",
    "```\n",
    "</details>"
   ]
  },
  {
   "cell_type": "markdown",
   "id": "b381ecb0",
   "metadata": {},
   "source": [
    "## 🔁 8. Reverse a String (without slicing)\n",
    "Write a function that reverses a string manually."
   ]
  },
  {
   "cell_type": "code",
   "execution_count": 18,
   "id": "5aabcafe",
   "metadata": {},
   "outputs": [
    {
     "data": {
      "text/plain": [
       "'dlrow olleh'"
      ]
     },
     "execution_count": 18,
     "metadata": {},
     "output_type": "execute_result"
    }
   ],
   "source": [
    "def reverse_string(s):\n",
    "    # Your code here\n",
    "    result = \"\"\n",
    "    for char in s:\n",
    "        result = char + result\n",
    "    return result\n",
    "\n",
    "reverse_string(\"hello world\")"
   ]
  },
  {
   "cell_type": "markdown",
   "id": "ce394046",
   "metadata": {},
   "source": [
    "### ✅ Solution\n",
    "<details>\n",
    "<summary>Answer</summary>\n",
    "\n",
    "```python\n",
    "def reverse_string(s):\n",
    "    result = \"\"\n",
    "    for char in s:\n",
    "        result = char + result\n",
    "    return result\n",
    "```\n",
    "</details>"
   ]
  },
  {
   "cell_type": "markdown",
   "id": "9e06f1f2",
   "metadata": {},
   "source": [
    "## 🔐 9. Encoding/Decoding\n",
    "Try encoding and decoding a string with a special character."
   ]
  },
  {
   "cell_type": "code",
   "execution_count": 10,
   "id": "327dd120",
   "metadata": {},
   "outputs": [
    {
     "name": "stdout",
     "output_type": "stream",
     "text": [
      "b'Caf\\xc3\\xa9'\n",
      "Café\n"
     ]
    }
   ],
   "source": [
    "s = \"Café\"\n",
    "encoded = s.encode('utf-8')\n",
    "decoded = encoded.decode('utf-8')\n",
    "print(encoded)\n",
    "print(decoded)"
   ]
  },
  {
   "cell_type": "markdown",
   "id": "253b336c",
   "metadata": {},
   "source": [
    "## 🎉 You're Crushing It!\n",
    "You've just mastered one of Python's most frequently used types — `str`. From slicing to formatting to deep-level traps — you've covered it all like a pro. Up next: Lists & Tuples!"
   ]
  }
 ],
 "metadata": {
  "kernelspec": {
   "display_name": "Python 3",
   "language": "python",
   "name": "python3"
  },
  "language_info": {
   "codemirror_mode": {
    "name": "ipython",
    "version": 3
   },
   "file_extension": ".py",
   "mimetype": "text/x-python",
   "name": "python",
   "nbconvert_exporter": "python",
   "pygments_lexer": "ipython3",
   "version": "3.12.3"
  }
 },
 "nbformat": 4,
 "nbformat_minor": 5
}
