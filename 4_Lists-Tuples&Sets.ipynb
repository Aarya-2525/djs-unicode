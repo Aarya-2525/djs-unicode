{
 "cells": [
  {
   "cell_type": "markdown",
   "id": "984af8ac",
   "metadata": {},
   "source": [
    "# 🧠 Python Fundamentals Drill Notebook - Lists, Tuples & Sets Combo\n",
    "Welcome, Aarya! This is your all-in-one power notebook covering the holy trinity of Python sequences: **Lists**, **Tuples**, and **Sets**.\n",
    "\n",
    "Get ready for fun, bugs, brain twists, and confidence boosters!"
   ]
  },
  {
   "cell_type": "markdown",
   "id": "bd3bc410",
   "metadata": {},
   "source": [
    "# 📦 Part 1: Lists & Tuples"
   ]
  },
  {
   "cell_type": "markdown",
   "id": "efb30333",
   "metadata": {},
   "source": [
    "## 🎯 1. Lists vs Tuples\n",
    "Try modifying the list and the tuple below. What do you observe?"
   ]
  },
  {
   "cell_type": "code",
   "execution_count": 1,
   "id": "d6a7d7f3",
   "metadata": {},
   "outputs": [
    {
     "name": "stdout",
     "output_type": "stream",
     "text": [
      "['Mojito', 'Lime Soda', 'Negroni']\n",
      "('Mojito', 'LIIT', 'Negroni')\n"
     ]
    }
   ],
   "source": [
    "drinks_list = [\"Mojito\", \"LIIT\", \"Negroni\"]\n",
    "drinks_tuple = (\"Mojito\", \"LIIT\", \"Negroni\")\n",
    "\n",
    "# Modify them:\n",
    "drinks_list[1] = \"Lime Soda\"\n",
    "#drinks_tuple[1] = \"Minty Fresh\" is not possible as tuples are immutable\n",
    "print(drinks_list)\n",
    "print(drinks_tuple)"
   ]
  },
  {
   "cell_type": "markdown",
   "id": "ffde4f5c",
   "metadata": {},
   "source": [
    "### ✅ Answer\n",
    "<details><summary>Explanation</summary>\n",
    "Lists are mutable (can be changed), tuples are immutable (can't be changed after creation).\n",
    "</details>"
   ]
  },
  {
   "cell_type": "markdown",
   "id": "08c3f7c4",
   "metadata": {},
   "source": [
    "## ☝️ 2. Singleton Tuple\n",
    "Create a tuple with one element and print its type."
   ]
  },
  {
   "cell_type": "code",
   "execution_count": 2,
   "id": "7a082eee",
   "metadata": {},
   "outputs": [
    {
     "name": "stdout",
     "output_type": "stream",
     "text": [
      "<class 'tuple'>\n"
     ]
    }
   ],
   "source": [
    "t = ('Aarya',)\n",
    "print(type(t))"
   ]
  },
  {
   "cell_type": "markdown",
   "id": "4aa39f5b",
   "metadata": {},
   "source": [
    "## ✂️ 3. Slicing Practice\n",
    "Try slicing below: second item, last 2, reverse"
   ]
  },
  {
   "cell_type": "code",
   "execution_count": 3,
   "id": "e809115a",
   "metadata": {},
   "outputs": [
    {
     "name": "stdout",
     "output_type": "stream",
     "text": [
      "Martini\n",
      "['Negroni', 'LIIT']\n",
      "['LIIT', 'Negroni', 'Martini', 'Mojito']\n"
     ]
    }
   ],
   "source": [
    "lst = [\"Mojito\", \"Martini\", \"Negroni\", \"LIIT\"]\n",
    "# Your slicing here\n",
    "print(lst[1])\n",
    "print(lst[2:])\n",
    "print(lst[::-1])"
   ]
  },
  {
   "cell_type": "markdown",
   "id": "3a1cf2e2",
   "metadata": {},
   "source": [
    "### ✅ Answer\n",
    "<details><summary>Solutions</summary>\n",
    "```python\n",
    "lst[1] → 'Martini'\n",
    "lst[-2:] → ['Negroni', 'LIIT']\n",
    "lst[::-1] → reversed list\n",
    "```\n",
    "</details>"
   ]
  },
  {
   "cell_type": "markdown",
   "id": "6bb7facb",
   "metadata": {},
   "source": [
    "## 🔧 4. List Methods\n",
    "Try using `.append()`, `.insert()`, `.pop()`, `.sort()`"
   ]
  },
  {
   "cell_type": "code",
   "execution_count": 4,
   "id": "fca554df",
   "metadata": {},
   "outputs": [
    {
     "name": "stdout",
     "output_type": "stream",
     "text": [
      "Lime Soda\n",
      "['Daiquiri', 'Margarita', 'Mojito', 'Old Fashioned']\n"
     ]
    }
   ],
   "source": [
    "cocktails = [\"Daiquiri\", \"Old Fashioned\", \"Margarita\"]\n",
    "# Try list methods here\n",
    "cocktails.append(\"Mojito\")\n",
    "cocktails.insert(1,\"Lime Soda\")\n",
    "popped = cocktails.pop(1)\n",
    "print(popped)\n",
    "cocktails.sort()\n",
    "print(cocktails)"
   ]
  },
  {
   "cell_type": "markdown",
   "id": "245ef37d",
   "metadata": {},
   "source": [
    "## 🧹 5. Remove Duplicates (Keep Order)\n",
    "Write a function to remove duplicates while keeping order."
   ]
  },
  {
   "cell_type": "code",
   "execution_count": 5,
   "id": "77926e2b",
   "metadata": {},
   "outputs": [
    {
     "data": {
      "text/plain": [
       "['h', 'e', 'l', 'o']"
      ]
     },
     "execution_count": 5,
     "metadata": {},
     "output_type": "execute_result"
    }
   ],
   "source": [
    "def remove_duplicates(lst):\n",
    "    # Your code here\n",
    "    unique = []\n",
    "    for ele in lst:\n",
    "        if ele not in unique:\n",
    "            unique.append(ele)\n",
    "    return unique\n",
    "\n",
    "remove_duplicates(['h','e','l','l','o'])"
   ]
  },
  {
   "cell_type": "markdown",
   "id": "8b3d22ed",
   "metadata": {},
   "source": [
    "### ✅ Answer\n",
    "<details><summary>Solution</summary>\n",
    "```python\n",
    "def remove_duplicates(lst):\n",
    "    seen = []\n",
    "    for item in lst:\n",
    "        if item not in seen:\n",
    "            seen.append(item)\n",
    "    return seen\n",
    "```\n",
    "</details>"
   ]
  },
  {
   "cell_type": "markdown",
   "id": "691f3722",
   "metadata": {},
   "source": [
    "## 🔢 6. Enumerate & Zip Practice"
   ]
  },
  {
   "cell_type": "code",
   "execution_count": 9,
   "id": "12321e16",
   "metadata": {},
   "outputs": [
    {
     "name": "stdout",
     "output_type": "stream",
     "text": [
      "1) LIIT\n",
      "2) Martini\n",
      "3) Mojito\n",
      "Cocktail - LIIT: Rating - 4.8\n",
      "Cocktail - Martini: Rating - 4.6\n",
      "Cocktail - Mojito: Rating - 4.9\n"
     ]
    }
   ],
   "source": [
    "cocktails = [\"LIIT\", \"Martini\", \"Mojito\"]\n",
    "ratings = [4.8, 4.6, 4.9]\n",
    "\n",
    "# Try zip/enumerate here\n",
    "for i, drink in enumerate(cocktails):\n",
    "    print(f\"{i+1}) {drink}\")\n",
    "\n",
    "for c, r in zip(cocktails, ratings):\n",
    "    print(f\"Cocktail - {c}: Rating - {r}\")"
   ]
  },
  {
   "cell_type": "markdown",
   "id": "3888b4f6",
   "metadata": {},
   "source": [
    "## 🐍 7. Tuple with Mutable Element"
   ]
  },
  {
   "cell_type": "code",
   "execution_count": 6,
   "id": "a68ebf72",
   "metadata": {},
   "outputs": [
    {
     "name": "stdout",
     "output_type": "stream",
     "text": [
      "(1, 2, [3, 4, 5])\n"
     ]
    }
   ],
   "source": [
    "t = (1, 2, [3, 4])\n",
    "t[2].append(5)\n",
    "print(t)"
   ]
  },
  {
   "cell_type": "markdown",
   "id": "7cd94e1a",
   "metadata": {},
   "source": [
    "### ✅ Answer\n",
    "<details><summary>Why does this work?</summary>\n",
    "Tuples are immutable, but if they contain mutable elements (like lists), those can still be changed.\n",
    "</details>"
   ]
  },
  {
   "cell_type": "markdown",
   "id": "7c84ae17",
   "metadata": {},
   "source": [
    "## 🔄 8. One-line Swap"
   ]
  },
  {
   "cell_type": "code",
   "execution_count": 10,
   "id": "ca0b009e",
   "metadata": {},
   "outputs": [
    {
     "name": "stdout",
     "output_type": "stream",
     "text": [
      "10 5\n"
     ]
    }
   ],
   "source": [
    "a = 5\n",
    "b = 10\n",
    "a, b = b, a\n",
    "print(a, b)"
   ]
  },
  {
   "cell_type": "markdown",
   "id": "5f7c70a3",
   "metadata": {},
   "source": [
    "## 🧠 9. Shared Reference Trap"
   ]
  },
  {
   "cell_type": "code",
   "execution_count": 11,
   "id": "0837af1b",
   "metadata": {},
   "outputs": [
    {
     "name": "stdout",
     "output_type": "stream",
     "text": [
      "[1, 2, 3, 4]\n"
     ]
    }
   ],
   "source": [
    "x = [1, 2, 3]\n",
    "y = x\n",
    "y.append(4)\n",
    "print(x)"
   ]
  },
  {
   "cell_type": "markdown",
   "id": "fe12feae",
   "metadata": {},
   "source": [
    "### ✅ Answer\n",
    "<details><summary>Explanation</summary>\n",
    "Both `x` and `y` point to the same list. To avoid this, use `x.copy()` or `x[:]`.\n",
    "</details>"
   ]
  },
  {
   "cell_type": "markdown",
   "id": "594eb2cc",
   "metadata": {},
   "source": [
    "## 🔐 10. Tuple as Dict Key"
   ]
  },
  {
   "cell_type": "code",
   "execution_count": 12,
   "id": "9004becb",
   "metadata": {},
   "outputs": [
    {
     "name": "stdout",
     "output_type": "stream",
     "text": [
      "Backend Dev\n"
     ]
    }
   ],
   "source": [
    "d = {(\"Aarya\", \"Python\"): \"Backend Dev\"}\n",
    "print(d[(\"Aarya\", \"Python\")])"
   ]
  },
  {
   "cell_type": "markdown",
   "id": "acf02829",
   "metadata": {},
   "source": [
    "# 🔥 Part 2: Sets Mastery"
   ]
  },
  {
   "cell_type": "markdown",
   "id": "53c8b8e0",
   "metadata": {},
   "source": [
    "## 🧃 1. Set with Duplicates"
   ]
  },
  {
   "cell_type": "code",
   "execution_count": 13,
   "id": "db94320b",
   "metadata": {},
   "outputs": [
    {
     "name": "stdout",
     "output_type": "stream",
     "text": [
      "{'Negroni', 'LIIT', 'Martini'}\n"
     ]
    }
   ],
   "source": [
    "cocktail_set = {\"LIIT\", \"Martini\", \"Negroni\", \"LIIT\"}\n",
    "print(cocktail_set)"
   ]
  },
  {
   "cell_type": "markdown",
   "id": "94e83c8a",
   "metadata": {},
   "source": [
    "## 🧹 2. Add, Discard, Remove"
   ]
  },
  {
   "cell_type": "code",
   "execution_count": 14,
   "id": "2c560157",
   "metadata": {},
   "outputs": [
    {
     "name": "stdout",
     "output_type": "stream",
     "text": [
      "{'Gin', 'Whiskey', 'Vodka'}\n"
     ]
    }
   ],
   "source": [
    "drinks = {\"Gin\", \"Rum\", \"Whiskey\"}\n",
    "drinks.add(\"Vodka\")\n",
    "drinks.discard(\"Tequila\") #If not in list, won't give an error\n",
    "drinks.remove(\"Rum\") #Will give error if not iin list\n",
    "print(drinks)"
   ]
  },
  {
   "cell_type": "markdown",
   "id": "05799a93",
   "metadata": {},
   "source": [
    "## 🔁 3. Set Operations"
   ]
  },
  {
   "cell_type": "code",
   "execution_count": null,
   "id": "0ae588d1",
   "metadata": {},
   "outputs": [
    {
     "name": "stdout",
     "output_type": "stream",
     "text": [
      "{'LIIT', 'Martini'}\n",
      "{'Mojito'}\n",
      "{'Screwdriver', 'LIIT', 'Martini', 'Mojito'}\n",
      "{'Mojito', 'Screwdriver'}\n"
     ]
    }
   ],
   "source": [
    "today = {\"LIIT\", \"Mojito\", \"Martini\"}\n",
    "yesterday = {\"Martini\", \"Screwdriver\", \"LIIT\"}\n",
    "\n",
    "print(today & yesterday) #Intersection\n",
    "print(today - yesterday) #Difference\n",
    "print(today | yesterday) #Union\n",
    "print(today ^ yesterday) #Symmetric Difference"
   ]
  },
  {
   "cell_type": "markdown",
   "id": "f24bb169",
   "metadata": {},
   "source": [
    "## 🧪 4. Set Comprehension"
   ]
  },
  {
   "cell_type": "code",
   "execution_count": 22,
   "id": "7071b7a2",
   "metadata": {},
   "outputs": [
    {
     "name": "stdout",
     "output_type": "stream",
     "text": [
      "{0, 1, 64, 4, 36, 9, 16, 49, 81, 25}\n"
     ]
    }
   ],
   "source": [
    "squares = {x*x for x in range(10)}\n",
    "print(squares)"
   ]
  },
  {
   "cell_type": "markdown",
   "id": "60a78e4c",
   "metadata": {},
   "source": [
    "## ⚡ 5. Membership Speed Test"
   ]
  },
  {
   "cell_type": "code",
   "execution_count": 27,
   "id": "fd588a68",
   "metadata": {},
   "outputs": [
    {
     "name": "stdout",
     "output_type": "stream",
     "text": [
      "List time: 0.0\n",
      "Set time: 0.0012040138244628906\n"
     ]
    }
   ],
   "source": [
    "from time import time\n",
    "big_list = list(range(10**3))\n",
    "big_set = set(big_list)\n",
    "\n",
    "start = time()\n",
    "999999 in big_list\n",
    "print(\"List time:\", time() - start)\n",
    "\n",
    "start = time()\n",
    "999999 in big_set\n",
    "print(\"Set time:\", time() - start)"
   ]
  },
  {
   "cell_type": "markdown",
   "id": "8b0f6608",
   "metadata": {},
   "source": [
    "## 🚨 6. Unhashable Types in Sets"
   ]
  },
  {
   "cell_type": "code",
   "execution_count": 31,
   "id": "3386cf9e",
   "metadata": {},
   "outputs": [
    {
     "name": "stdout",
     "output_type": "stream",
     "text": [
      "{(1, 2)}\n"
     ]
    }
   ],
   "source": [
    "s = set()\n",
    "s.add((1, 2))\n",
    "# s.add([1, 2])  # ❌ TypeError\n",
    "print(s)"
   ]
  },
  {
   "cell_type": "markdown",
   "id": "a71693c9",
   "metadata": {},
   "source": [
    "## 📧 7. Remove Duplicates in Email List"
   ]
  },
  {
   "cell_type": "code",
   "execution_count": 32,
   "id": "d9f098ad",
   "metadata": {},
   "outputs": [
    {
     "name": "stdout",
     "output_type": "stream",
     "text": [
      "['a@x.com', 'b@x.com']\n"
     ]
    }
   ],
   "source": [
    "emails = [\"a@x.com\", \"b@x.com\", \"a@x.com\"]\n",
    "unique_emails = list(set(emails))\n",
    "print(unique_emails)"
   ]
  },
  {
   "cell_type": "markdown",
   "id": "389f8235",
   "metadata": {},
   "source": [
    "## ✅ You're Crushing It!\n",
    "You've just sharpened your skills in Lists, Tuples, and Sets. Let me know when you're ready to unlock the next boss level: **Dictionaries** 🔓🧠"
   ]
  }
 ],
 "metadata": {
  "kernelspec": {
   "display_name": "Python 3",
   "language": "python",
   "name": "python3"
  },
  "language_info": {
   "codemirror_mode": {
    "name": "ipython",
    "version": 3
   },
   "file_extension": ".py",
   "mimetype": "text/x-python",
   "name": "python",
   "nbconvert_exporter": "python",
   "pygments_lexer": "ipython3",
   "version": "3.12.3"
  }
 },
 "nbformat": 4,
 "nbformat_minor": 5
}
