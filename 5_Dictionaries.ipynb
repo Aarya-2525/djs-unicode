{
 "cells": [
  {
   "cell_type": "markdown",
   "metadata": {},
   "source": [
    "# 🧠 Python Drill Notebook: Dictionaries (In-Depth Practice)\n",
    "\n",
    "Welcome, Aarya! This notebook will help you master Python dictionaries:\n",
    "- Access methods\n",
    "- Iteration\n",
    "- Comprehensions\n",
    "- Manual defaultdict logic\n",
    "\n",
    "Enjoy the challenges, examples, and hidden answers! 🚀"
   ]
  },
  {
   "cell_type": "markdown",
   "metadata": {},
   "source": [
    "## 🔑 1. Accessing Dictionary Items"
   ]
  },
  {
   "cell_type": "code",
   "execution_count": 2,
   "metadata": {},
   "outputs": [
    {
     "name": "stdout",
     "output_type": "stream",
     "text": [
      "4.9\n",
      "Sorry! We don't serve this.\n"
     ]
    }
   ],
   "source": [
    "menu = {\"LIIT\": 4.9, \"Martini\": 4.8}\n",
    "print(menu[\"LIIT\"])\n",
    "# What happens if you try menu[\"Negroni\"]?\n",
    "print(menu.get(\"Negroni\", \"Sorry! We don't serve this.\"))"
   ]
  },
  {
   "cell_type": "markdown",
   "metadata": {},
   "source": [
    "## 🔧 2. Update and Pop"
   ]
  },
  {
   "cell_type": "code",
   "execution_count": 3,
   "metadata": {},
   "outputs": [
    {
     "name": "stdout",
     "output_type": "stream",
     "text": [
      "{'LIIT': 4.9, 'Martini': 4.8, 'Negroni': 4.6, 'Cosmopolitan': 4.7}\n",
      "Removed: 4.9\n",
      "Updated Menu: {'Martini': 4.8, 'Negroni': 4.6, 'Cosmopolitan': 4.7}\n"
     ]
    }
   ],
   "source": [
    "menu.update({\"Negroni\": 4.6, \"Cosmopolitan\": 4.7})\n",
    "print(menu)\n",
    "\n",
    "removed = menu.pop(\"LIIT\")\n",
    "print(\"Removed:\", removed)\n",
    "print(\"Updated Menu:\", menu)"
   ]
  },
  {
   "cell_type": "markdown",
   "metadata": {},
   "source": [
    "## 🔁 3. Iteration over Dictionary"
   ]
  },
  {
   "cell_type": "code",
   "execution_count": 4,
   "metadata": {},
   "outputs": [
    {
     "name": "stdout",
     "output_type": "stream",
     "text": [
      "Key: Martini\n",
      "Key: Negroni\n",
      "Key: Cosmopolitan\n"
     ]
    }
   ],
   "source": [
    "for key in menu:\n",
    "    print(\"Key:\", key)"
   ]
  },
  {
   "cell_type": "code",
   "execution_count": 5,
   "metadata": {},
   "outputs": [
    {
     "name": "stdout",
     "output_type": "stream",
     "text": [
      "Value: 4.8\n",
      "Value: 4.6\n",
      "Value: 4.7\n"
     ]
    }
   ],
   "source": [
    "for value in menu.values():\n",
    "    print(\"Value:\", value)"
   ]
  },
  {
   "cell_type": "code",
   "execution_count": 6,
   "metadata": {},
   "outputs": [
    {
     "name": "stdout",
     "output_type": "stream",
     "text": [
      "Martini: 4.8\n",
      "Negroni: 4.6\n",
      "Cosmopolitan: 4.7\n"
     ]
    }
   ],
   "source": [
    "for cocktail, rating in menu.items():\n",
    "    print(f\"{cocktail}: {rating}\")"
   ]
  },
  {
   "cell_type": "markdown",
   "metadata": {},
   "source": [
    "## 🧬 4. Dictionary Comprehension"
   ]
  },
  {
   "cell_type": "code",
   "execution_count": 7,
   "metadata": {},
   "outputs": [
    {
     "name": "stdout",
     "output_type": "stream",
     "text": [
      "{1: 1, 2: 4, 3: 9, 4: 16, 5: 25}\n"
     ]
    }
   ],
   "source": [
    "squares = {x: x**2 for x in range(1, 6)}\n",
    "print(squares)"
   ]
  },
  {
   "cell_type": "code",
   "execution_count": 8,
   "metadata": {},
   "outputs": [
    {
     "name": "stdout",
     "output_type": "stream",
     "text": [
      "{0: 0, 2: 4, 4: 16, 6: 36, 8: 64}\n"
     ]
    }
   ],
   "source": [
    "even_squares = {x: x**2 for x in range(10) if x % 2 == 0}\n",
    "print(even_squares)"
   ]
  },
  {
   "cell_type": "markdown",
   "metadata": {},
   "source": [
    "## 🧠 5. Manual defaultdict Pattern"
   ]
  },
  {
   "cell_type": "code",
   "execution_count": 9,
   "metadata": {},
   "outputs": [
    {
     "name": "stdout",
     "output_type": "stream",
     "text": [
      "{'liit': 3, 'martini': 2, 'mojito': 1}\n"
     ]
    }
   ],
   "source": [
    "sentence = \"liit martini liit mojito martini liit\"\n",
    "words = sentence.split() #Converts to list\n",
    "counter = {} #Empty dictionary\n",
    "\n",
    "for word in words:\n",
    "    if word not in counter:\n",
    "        counter[word] = 0 #Supposing a new element in the dictionary\n",
    "    counter[word] += 1 #Adding up to the occurences\n",
    "\n",
    "print(counter)"
   ]
  },
  {
   "cell_type": "markdown",
   "metadata": {},
   "source": [
    "## 🎯 6. Challenge - Count Frequencies Without `collections`"
   ]
  },
  {
   "cell_type": "code",
   "execution_count": 10,
   "metadata": {},
   "outputs": [
    {
     "name": "stdout",
     "output_type": "stream",
     "text": [
      "{'mojito': 2, 'liit': 3, 'martini': 1}\n"
     ]
    }
   ],
   "source": [
    "orders = [\"mojito\", \"mojito\", \"liit\", \"martini\", \"liit\", \"liit\"]\n",
    "# Count frequency of each drink in a dictionary\n",
    "freq = {}\n",
    "for drink in orders:\n",
    "    if drink not in freq:\n",
    "        freq[drink] = 0\n",
    "    freq[drink] += 1\n",
    "\n",
    "print(freq)"
   ]
  },
  {
   "cell_type": "markdown",
   "metadata": {},
   "source": [
    "### ✅ Answer\n",
    "<details><summary>Click to view</summary>\n",
    "\n",
    "```python\n",
    "counter = {}\n",
    "for drink in orders:\n",
    "    if drink not in counter:\n",
    "        counter[drink] = 0\n",
    "    counter[drink] += 1\n",
    "print(counter)\n",
    "```\n",
    "</details>"
   ]
  },
  {
   "cell_type": "markdown",
   "metadata": {},
   "source": [
    "## 🐛 7. Debug - Mutable Key Error"
   ]
  },
  {
   "cell_type": "code",
   "execution_count": 11,
   "metadata": {},
   "outputs": [
    {
     "name": "stdout",
     "output_type": "stream",
     "text": [
      "{(1, 2): 'works!'}\n"
     ]
    }
   ],
   "source": [
    "# bad = {[1, 2]: 'error'}  # ❌ TypeError: unhashable type: 'list'\n",
    "good = {(1, 2): 'works!'}\n",
    "print(good)"
   ]
  }
 ],
 "metadata": {
  "kernelspec": {
   "display_name": "Python 3",
   "language": "python",
   "name": "python3"
  },
  "language_info": {
   "codemirror_mode": {
    "name": "ipython",
    "version": 3
   },
   "file_extension": ".py",
   "mimetype": "text/x-python",
   "name": "python",
   "nbconvert_exporter": "python",
   "pygments_lexer": "ipython3",
   "version": "3.12.3"
  }
 },
 "nbformat": 4,
 "nbformat_minor": 4
}
