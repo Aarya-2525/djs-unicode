{
 "cells": [
  {
   "cell_type": "markdown",
   "id": "f2ffdd3e",
   "metadata": {},
   "source": [
    "# 🧠 Python Functions Drill Notebook (Topic 6)\n",
    "Welcome, Aarya! This is your all-in-one deep practice space for Python functions. We’ll cover everything from basic function definitions to `*args`, `**kwargs`, and docstrings — with real challenges and smart bugs to debug!"
   ]
  },
  {
   "cell_type": "markdown",
   "id": "7e144c90",
   "metadata": {},
   "source": [
    "## 🔧 1. `def`, Parameters, and Return"
   ]
  },
  {
   "cell_type": "code",
   "execution_count": 1,
   "id": "654ac79e",
   "metadata": {},
   "outputs": [
    {
     "name": "stdout",
     "output_type": "stream",
     "text": [
      "Hello, Aarya!\n"
     ]
    }
   ],
   "source": [
    "def greet(name):\n",
    "    return f\"Hello, {name}!\"\n",
    "\n",
    "# Try it!\n",
    "print(greet(\"Aarya\"))"
   ]
  },
  {
   "cell_type": "code",
   "execution_count": 2,
   "id": "560edaa5",
   "metadata": {},
   "outputs": [
    {
     "name": "stdout",
     "output_type": "stream",
     "text": [
      "10\n"
     ]
    }
   ],
   "source": [
    "# ❓ Write a function `multiply` that takes two numbers and returns their product\n",
    "def multiply(a,b):\n",
    "    return a*b\n",
    "\n",
    "print(multiply(2,5))"
   ]
  },
  {
   "cell_type": "markdown",
   "id": "d6ffe63e",
   "metadata": {},
   "source": [
    "## 🧃 2. Default Arguments"
   ]
  },
  {
   "cell_type": "code",
   "execution_count": 3,
   "id": "ee5042f5",
   "metadata": {},
   "outputs": [
    {
     "name": "stdout",
     "output_type": "stream",
     "text": [
      "Welcome, friend!\n",
      "Welcome, Aarya!\n"
     ]
    }
   ],
   "source": [
    "def welcome(name=\"friend\"):\n",
    "    return f\"Welcome, {name}!\"\n",
    "\n",
    "print(welcome())\n",
    "print(welcome(\"Aarya\"))"
   ]
  },
  {
   "cell_type": "code",
   "execution_count": 4,
   "id": "a40b6cba",
   "metadata": {},
   "outputs": [
    {
     "name": "stdout",
     "output_type": "stream",
     "text": [
      "25\n",
      "8\n"
     ]
    }
   ],
   "source": [
    "# ❓ Write a function `power(base, exponent)` that defaults exponent to 2 if not provided.\n",
    "def power(base, exponent=2):\n",
    "    return base**exponent\n",
    "\n",
    "print(power(5))\n",
    "print(power(2,3))"
   ]
  },
  {
   "cell_type": "markdown",
   "id": "657f833f",
   "metadata": {},
   "source": [
    "## 🔁 3. Positional vs Keyword Arguments"
   ]
  },
  {
   "cell_type": "code",
   "execution_count": 9,
   "id": "00380d64",
   "metadata": {},
   "outputs": [
    {
     "name": "stdout",
     "output_type": "stream",
     "text": [
      "Martini served with Olives\n",
      "Mojito served with Mint\n"
     ]
    }
   ],
   "source": [
    "def make_drink(name, garnish):\n",
    "    return f\"{name} served with {garnish}\"\n",
    "\n",
    "print(make_drink(\"Martini\", \"Olives\"))\n",
    "print(make_drink(garnish=\"Mint\", name=\"Mojito\"))"
   ]
  },
  {
   "cell_type": "code",
   "execution_count": null,
   "id": "b881f887",
   "metadata": {},
   "outputs": [],
   "source": [
    "# ❓ What happens if you skip a required argument? \n",
    "# Try calling make_drink() with only one parameter.\n",
    "# TypeError: make_drink() missing 1 required positional argument: 'garnish'"
   ]
  },
  {
   "cell_type": "markdown",
   "id": "dfabfb3f",
   "metadata": {},
   "source": [
    "## 🌌 4. Variable-Length Arguments: `*args`"
   ]
  },
  {
   "cell_type": "code",
   "execution_count": 10,
   "id": "d7e5f836",
   "metadata": {},
   "outputs": [
    {
     "name": "stdout",
     "output_type": "stream",
     "text": [
      "Serving: LIIT\n",
      "Serving: Mojito\n",
      "Serving: Martini\n"
     ]
    }
   ],
   "source": [
    "def order(*drinks):\n",
    "    for d in drinks:\n",
    "        print(\"Serving:\", d)\n",
    "\n",
    "order(\"LIIT\", \"Mojito\", \"Martini\")"
   ]
  },
  {
   "cell_type": "code",
   "execution_count": 12,
   "id": "4945bf6a",
   "metadata": {},
   "outputs": [
    {
     "data": {
      "text/plain": [
       "15"
      ]
     },
     "execution_count": 12,
     "metadata": {},
     "output_type": "execute_result"
    }
   ],
   "source": [
    "# ❓ Write a function `sum_all` that takes any number of numbers and returns their sum using *args.\n",
    "def sum_all(*num):\n",
    "    sum = 0\n",
    "    for n in num:\n",
    "        sum += n\n",
    "    return sum\n",
    "\n",
    "sum_all(1,2,3,4,5)"
   ]
  },
  {
   "cell_type": "markdown",
   "id": "3329456f",
   "metadata": {},
   "source": [
    "## 🌐 5. Keyword Arguments Dictionary: `**kwargs`"
   ]
  },
  {
   "cell_type": "code",
   "execution_count": 14,
   "id": "dbe6ca08",
   "metadata": {},
   "outputs": [
    {
     "name": "stdout",
     "output_type": "stream",
     "text": [
      "name: Aarya\n",
      "role: Backend\n",
      "stack: Django(Python)\n"
     ]
    }
   ],
   "source": [
    "def print_profile(**info):\n",
    "    for key, value in info.items():\n",
    "        print(f\"{key}: {value}\")\n",
    "\n",
    "print_profile(name=\"Aarya\", role=\"Backend\", stack=\"Django(Python)\")"
   ]
  },
  {
   "cell_type": "code",
   "execution_count": 15,
   "id": "fe7c56de",
   "metadata": {},
   "outputs": [
    {
     "name": "stdout",
     "output_type": "stream",
     "text": [
      "brightness : 50\n",
      "volume : 45\n",
      "battery : 98\n",
      "power_mode : Turbo\n"
     ]
    }
   ],
   "source": [
    "# ❓ Write a function `show_config(**settings)` that prints config items.\n",
    "def show_config(**settings):\n",
    "    for key, val in settings.items():\n",
    "        print(f\"{key} : {val}\")\n",
    "\n",
    "show_config(brightness=50, volume=45, battery=98, power_mode=\"Turbo\")"
   ]
  },
  {
   "cell_type": "markdown",
   "id": "4c0edace",
   "metadata": {},
   "source": [
    "## 🔀 6. Combining `*args` and `**kwargs`"
   ]
  },
  {
   "cell_type": "code",
   "execution_count": 16,
   "id": "3447b025",
   "metadata": {},
   "outputs": [
    {
     "name": "stdout",
     "output_type": "stream",
     "text": [
      "Drinks: ('LIIT', 'Negroni')\n",
      "Details: {'table': 4, 'server': 'Aarya'}\n"
     ]
    }
   ],
   "source": [
    "def serve_order(*drinks, **meta):\n",
    "    print(\"Drinks:\", drinks)\n",
    "    print(\"Details:\", meta)\n",
    "\n",
    "serve_order(\"LIIT\", \"Negroni\", table=4, server=\"Aarya\")"
   ]
  },
  {
   "cell_type": "code",
   "execution_count": 17,
   "id": "3a9dd631",
   "metadata": {},
   "outputs": [
    {
     "name": "stdout",
     "output_type": "stream",
     "text": [
      "Number of drinks:  2\n",
      "Customers:  {'cust_1': 'Chris', 'cust_2': 'Louis'}\n"
     ]
    }
   ],
   "source": [
    "# ❓ Challenge: Write a function that prints number of drinks ordered and the customer's details.\n",
    "def order_history(*drinks, **customers):\n",
    "    count = 0\n",
    "    for d in drinks:\n",
    "        count += 1\n",
    "    print(\"Number of drinks: \",count)\n",
    "    print(\"Customers: \", customers)\n",
    "\n",
    "order_history(\"Margarita\",\"Mojito\", cust_1=\"Chris\", cust_2=\"Louis\")"
   ]
  },
  {
   "cell_type": "markdown",
   "id": "21442a33",
   "metadata": {},
   "source": [
    "## 🧾 7. Docstrings and Inline Docs"
   ]
  },
  {
   "cell_type": "code",
   "execution_count": 18,
   "id": "e00ed32e",
   "metadata": {},
   "outputs": [
    {
     "name": "stdout",
     "output_type": "stream",
     "text": [
      "Returns the sum of two numbers.\n"
     ]
    }
   ],
   "source": [
    "def add(a, b):\n",
    "    \"\"\"Returns the sum of two numbers.\"\"\"\n",
    "    return a + b\n",
    "\n",
    "print(add.__doc__)"
   ]
  },
  {
   "cell_type": "code",
   "execution_count": 20,
   "id": "f55b2f08",
   "metadata": {},
   "outputs": [
    {
     "name": "stdout",
     "output_type": "stream",
     "text": [
      "Greets you based on name provided.\n"
     ]
    }
   ],
   "source": [
    "# ❓ Write your own function with a docstring and print it using __doc__\n",
    "def greet(name=\"friend\"):\n",
    "    \"\"\"Greets you based on name provided.\"\"\"\n",
    "    return f\"Hello there!{name}!\"\n",
    "\n",
    "print(greet.__doc__)"
   ]
  },
  {
   "cell_type": "markdown",
   "id": "a59b5380",
   "metadata": {},
   "source": [
    "## 🐞 8. Debug This!"
   ]
  },
  {
   "cell_type": "code",
   "execution_count": null,
   "id": "f1e19999",
   "metadata": {},
   "outputs": [
    {
     "name": "stdout",
     "output_type": "stream",
     "text": [
      "5\n"
     ]
    }
   ],
   "source": [
    "def subtract(a, b=5):\n",
    "    return a - b\n",
    "\n",
    "# What does this print? Why? - only one arg is given so it makes 10-5=5\n",
    "print(subtract(10))"
   ]
  },
  {
   "cell_type": "code",
   "execution_count": null,
   "id": "16f13329",
   "metadata": {},
   "outputs": [
    {
     "name": "stdout",
     "output_type": "stream",
     "text": [
      "Hello, Aarya\n"
     ]
    }
   ],
   "source": [
    "# ❓ Fix this broken function: - No need to fix since order doesn't matter!\n",
    "def broken(name, greet):\n",
    "    return greet + \", \" + name\n",
    "\n",
    "print(broken(\"Aarya\",\"Hello\"))"
   ]
  },
  {
   "cell_type": "markdown",
   "id": "d274622c",
   "metadata": {},
   "source": [
    "## 🏁 9. Final Challenge: Build Your Own Function"
   ]
  },
  {
   "cell_type": "code",
   "execution_count": 26,
   "id": "d60341df",
   "metadata": {},
   "outputs": [
    {
     "name": "stdout",
     "output_type": "stream",
     "text": [
      "🍸 Order Summary 🍸\n",
      "Drinks: LIIT, Negroni\n",
      "Table: 4\n",
      "Server: Aarya\n"
     ]
    }
   ],
   "source": [
    "# Create a function `generate_menu` that accepts any number of cocktail names (*args)\n",
    "# and metadata like bartender name, table number (**kwargs).\n",
    "# Return a formatted string summarizing the order.\n",
    "def generate_menu(*cocktails,**meta):\n",
    "    drinks = \", \".join(cocktails)\n",
    "    details = \"\\n\".join(f\"{key.capitalize()}: {val}\" for key,val in meta.items())\n",
    "    return f\"🍸 Order Summary 🍸\\nDrinks: {drinks}\\n{details}\"\n",
    "\n",
    "print(generate_menu(\"LIIT\", \"Negroni\", table=4, server=\"Aarya\"))"
   ]
  }
 ],
 "metadata": {
  "kernelspec": {
   "display_name": "Python 3",
   "language": "python",
   "name": "python3"
  },
  "language_info": {
   "codemirror_mode": {
    "name": "ipython",
    "version": 3
   },
   "file_extension": ".py",
   "mimetype": "text/x-python",
   "name": "python",
   "nbconvert_exporter": "python",
   "pygments_lexer": "ipython3",
   "version": "3.12.3"
  }
 },
 "nbformat": 4,
 "nbformat_minor": 5
}
