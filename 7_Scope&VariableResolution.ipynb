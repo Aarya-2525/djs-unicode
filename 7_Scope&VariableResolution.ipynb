{
 "cells": [
  {
   "cell_type": "markdown",
   "id": "a1afdf5c",
   "metadata": {},
   "source": [
    "# 🧠 Python Drill Notebook: Scope & Variable Resolution (LEGB)\n",
    "Welcome Aarya! This notebook covers how Python resolves variables with LEGB rule, how `global` and `nonlocal` work, and how to avoid common traps like variable shadowing."
   ]
  },
  {
   "cell_type": "markdown",
   "id": "18361ea2",
   "metadata": {},
   "source": [
    "## 🧭 1. The LEGB Rule - Local, Enclosing, Global, Built-in"
   ]
  },
  {
   "cell_type": "code",
   "execution_count": null,
   "id": "fbd1d832",
   "metadata": {},
   "outputs": [
    {
     "name": "stdout",
     "output_type": "stream",
     "text": [
      "local\n"
     ]
    }
   ],
   "source": [
    "# Global scope\n",
    "x = 'global'\n",
    "\n",
    "def test():\n",
    "    x = 'local'\n",
    "    print(x)  # Which x will this print? - 'local'\n",
    "\n",
    "test()"
   ]
  },
  {
   "cell_type": "code",
   "execution_count": 2,
   "id": "7657d4ba",
   "metadata": {},
   "outputs": [
    {
     "name": "stdout",
     "output_type": "stream",
     "text": [
      "5\n"
     ]
    }
   ],
   "source": [
    "# Built-in scope\n",
    "print(len('Aarya'))  # Try not to overwrite built-in names!"
   ]
  },
  {
   "cell_type": "markdown",
   "id": "3c8f4479",
   "metadata": {},
   "source": [
    "## 🧩 2. Enclosing Scope"
   ]
  },
  {
   "cell_type": "code",
   "execution_count": null,
   "id": "35ae8a49",
   "metadata": {},
   "outputs": [
    {
     "name": "stdout",
     "output_type": "stream",
     "text": [
      "outer\n"
     ]
    }
   ],
   "source": [
    "def outer():\n",
    "    x = 'outer'\n",
    "    def inner():\n",
    "        print(x) #If x doesn't exist in inner loop, Python checks for any outer enclosing loop which has x\n",
    "    inner()\n",
    "\n",
    "outer()"
   ]
  },
  {
   "cell_type": "markdown",
   "id": "461d64e2",
   "metadata": {},
   "source": [
    "## ⚠️ 3. Variable Shadowing"
   ]
  },
  {
   "cell_type": "code",
   "execution_count": 18,
   "id": "b312df7a",
   "metadata": {},
   "outputs": [
    {
     "name": "stdout",
     "output_type": "stream",
     "text": [
      "10\n"
     ]
    }
   ],
   "source": [
    "sum_list = [1,2,3,4]  # 😬 Shadowing built-in sum()\n",
    "print(sum(sum_list))  # ❌ Will this work? - Name should be anything other than built-in functions\n"
   ]
  },
  {
   "cell_type": "markdown",
   "id": "c4310310",
   "metadata": {},
   "source": [
    "## 🔐 4. The `global` Keyword"
   ]
  },
  {
   "cell_type": "code",
   "execution_count": null,
   "id": "f9429f43",
   "metadata": {},
   "outputs": [
    {
     "name": "stdout",
     "output_type": "stream",
     "text": [
      "6\n"
     ]
    }
   ],
   "source": [
    "x = 5\n",
    "\n",
    "def update():\n",
    "    global x #Refers to the outermost or global variable x\n",
    "    x += 1\n",
    "\n",
    "update()\n",
    "print(x)  # Should print 6"
   ]
  },
  {
   "cell_type": "markdown",
   "id": "81f2fb01",
   "metadata": {},
   "source": [
    "## 🔁 5. The `nonlocal` Keyword"
   ]
  },
  {
   "cell_type": "code",
   "execution_count": null,
   "id": "051e5d90",
   "metadata": {},
   "outputs": [
    {
     "name": "stdout",
     "output_type": "stream",
     "text": [
      "1\n"
     ]
    }
   ],
   "source": [
    "def outer():\n",
    "    count = 0\n",
    "    def inner():\n",
    "        nonlocal count #Acts like global but is only limited to the outer loop, not the global scope\n",
    "        count += 1\n",
    "        return count\n",
    "    return inner()\n",
    "\n",
    "print(outer())"
   ]
  },
  {
   "cell_type": "markdown",
   "id": "16f15a97",
   "metadata": {},
   "source": [
    "## 🎯 6. Practice Challenges"
   ]
  },
  {
   "cell_type": "code",
   "execution_count": null,
   "id": "199f929d",
   "metadata": {},
   "outputs": [
    {
     "name": "stdout",
     "output_type": "stream",
     "text": [
      "20\n"
     ]
    }
   ],
   "source": [
    "# ❓ What will this print and why? - 20 because for L - x doesn't exist then for E - x=20\n",
    "x = 10\n",
    "def foo():\n",
    "    x = 20\n",
    "    def bar():\n",
    "        print(x)\n",
    "    bar()\n",
    "\n",
    "foo()"
   ]
  },
  {
   "cell_type": "code",
   "execution_count": 24,
   "id": "f6cae6ec",
   "metadata": {},
   "outputs": [
    {
     "name": "stdout",
     "output_type": "stream",
     "text": [
      "1\n"
     ]
    }
   ],
   "source": [
    "# ❓ Fix the error using global\n",
    "total = 0\n",
    "def increment():\n",
    "    global total\n",
    "    total += 1\n",
    "\n",
    "increment()\n",
    "print(total)"
   ]
  },
  {
   "cell_type": "code",
   "execution_count": 25,
   "id": "4ba72d4d",
   "metadata": {},
   "outputs": [
    {
     "name": "stdout",
     "output_type": "stream",
     "text": [
      "1\n",
      "2\n"
     ]
    }
   ],
   "source": [
    "# ❓ Create a nested function that tracks number of times it has been called using `nonlocal`\n",
    "def tracker():\n",
    "    count = 0\n",
    "    def inner():\n",
    "        nonlocal count\n",
    "        count += 1\n",
    "        return count\n",
    "    return inner\n",
    "\n",
    "count_calls = tracker()\n",
    "print(count_calls())\n",
    "print(count_calls())"
   ]
  }
 ],
 "metadata": {
  "kernelspec": {
   "display_name": "Python 3",
   "language": "python",
   "name": "python3"
  },
  "language_info": {
   "codemirror_mode": {
    "name": "ipython",
    "version": 3
   },
   "file_extension": ".py",
   "mimetype": "text/x-python",
   "name": "python",
   "nbconvert_exporter": "python",
   "pygments_lexer": "ipython3",
   "version": "3.12.3"
  }
 },
 "nbformat": 4,
 "nbformat_minor": 5
}
