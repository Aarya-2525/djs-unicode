{
 "cells": [
  {
   "cell_type": "markdown",
   "id": "13246260",
   "metadata": {},
   "source": [
    "# 🧠 Python Drill Notebook: Comprehensions & Generator Expressions\n",
    "Welcome Aarya! This notebook explores list, dict, set comprehensions and generators with engaging challenges."
   ]
  },
  {
   "cell_type": "markdown",
   "id": "67ab752f",
   "metadata": {},
   "source": [
    "## 🔹 1. List Comprehension"
   ]
  },
  {
   "cell_type": "code",
   "execution_count": null,
   "id": "5370abcc",
   "metadata": {},
   "outputs": [
    {
     "name": "stdout",
     "output_type": "stream",
     "text": [
      "Loop : [0, 1, 4, 9, 16, 25, 36, 49, 64, 81]\n",
      "Comprehension : [0, 1, 4, 9, 16, 25, 36, 49, 64, 81]\n"
     ]
    }
   ],
   "source": [
    "# Convert this loop into a list comprehension:\n",
    "squares = []\n",
    "for x in range(10):\n",
    "    squares.append(x**2)\n",
    "print(\"Loop :\", squares)\n",
    "\n",
    "squares = [x**2 for x in range(10)] # [expression for item in iterable if condition]\n",
    "print(\"Comprehension :\", squares)"
   ]
  },
  {
   "cell_type": "code",
   "execution_count": 2,
   "id": "a90f275a",
   "metadata": {},
   "outputs": [
    {
     "name": "stdout",
     "output_type": "stream",
     "text": [
      "[0, 2, 4, 6, 8, 10, 12, 14, 16, 18]\n"
     ]
    }
   ],
   "source": [
    "# Create a list of even numbers from 0 to 20 using list comprehension\n",
    "even = [x for x in range(20) if x%2==0]\n",
    "print(even)"
   ]
  },
  {
   "cell_type": "markdown",
   "id": "edfadddf",
   "metadata": {},
   "source": [
    "## 🔸 2. Dictionary Comprehension"
   ]
  },
  {
   "cell_type": "code",
   "execution_count": null,
   "id": "3642b4ee",
   "metadata": {},
   "outputs": [
    {
     "name": "stdout",
     "output_type": "stream",
     "text": [
      "{1: 1, 2: 8, 3: 27, 4: 64, 5: 125}\n"
     ]
    }
   ],
   "source": [
    "# Create a dictionary where keys are numbers 1–5 and values are their cubes\n",
    "cubes = {x: x**3 for x in range(1,6)} # {key_expr: value_expr for item in iterable}\n",
    "print(cubes)"
   ]
  },
  {
   "cell_type": "code",
   "execution_count": 4,
   "id": "81bf4e93",
   "metadata": {},
   "outputs": [
    {
     "name": "stdout",
     "output_type": "stream",
     "text": [
      "{'aarya': 5, 'python': 6, 'scope': 5}\n"
     ]
    }
   ],
   "source": [
    "# From this list, create a dict with word lengths:\n",
    "words = ['aarya', 'python', 'scope']\n",
    "lengths = {word: len(word) for word in words}\n",
    "print(lengths)"
   ]
  },
  {
   "cell_type": "markdown",
   "id": "dfb6b2c6",
   "metadata": {},
   "source": [
    "## 🔷 3. Set Comprehension"
   ]
  },
  {
   "cell_type": "code",
   "execution_count": null,
   "id": "37d1e8b8",
   "metadata": {},
   "outputs": [
    {
     "name": "stdout",
     "output_type": "stream",
     "text": [
      "{'m', 's', 'i', 'p'}\n"
     ]
    }
   ],
   "source": [
    "# Create a set of all unique characters in this string:\n",
    "text = 'mississippi'\n",
    "unique = {character for character in text} # {expression for item in iterable}\n",
    "print(unique)"
   ]
  },
  {
   "cell_type": "markdown",
   "id": "894c1abe",
   "metadata": {},
   "source": [
    "## 🔁 4. Nested Comprehensions"
   ]
  },
  {
   "cell_type": "code",
   "execution_count": 6,
   "id": "2b6e5ad3",
   "metadata": {},
   "outputs": [
    {
     "name": "stdout",
     "output_type": "stream",
     "text": [
      "[1, 2, 3, 4, 5, 6]\n"
     ]
    }
   ],
   "source": [
    "# Flatten the following 2D list using nested comprehension:\n",
    "matrix = [[1, 2], [3, 4], [5, 6]]\n",
    "flattened = [x for rows in matrix for x in rows]\n",
    "print(flattened)"
   ]
  },
  {
   "cell_type": "code",
   "execution_count": 11,
   "id": "12351f8d",
   "metadata": {},
   "outputs": [
    {
     "name": "stdout",
     "output_type": "stream",
     "text": [
      "[(1, 4), (1, 5), (2, 4), (2, 5), (3, 4), (3, 5)]\n"
     ]
    }
   ],
   "source": [
    "# Get pairs (i,j) for i in [1,2,3] and j in [4,5] using nested comprehension\n",
    "i_list = [1,2,3]\n",
    "j_list = [4,5]\n",
    "pairs = [(i,j) for i in i_list for j in j_list]\n",
    "print(pairs)"
   ]
  },
  {
   "cell_type": "markdown",
   "id": "cf0018ad",
   "metadata": {},
   "source": [
    "## 🔄 5. Generator Expressions"
   ]
  },
  {
   "cell_type": "code",
   "execution_count": 13,
   "id": "c5220075",
   "metadata": {},
   "outputs": [
    {
     "name": "stdout",
     "output_type": "stream",
     "text": [
      "0\n",
      "1\n",
      "4\n",
      "[9, 16, 25, 36, 49, 64, 81]\n"
     ]
    }
   ],
   "source": [
    "# Create a generator that yields squares from 0 to 9\n",
    "# Use next() to get the first 3 items, then convert rest to list\n",
    "gen = (x**2 for x in range(10)) # (expression for item in iterable)\n",
    "print(next(gen))\n",
    "print(next(gen))\n",
    "print(next(gen))\n",
    "print(list(gen))"
   ]
  },
  {
   "cell_type": "code",
   "execution_count": 15,
   "id": "12062da3",
   "metadata": {},
   "outputs": [
    {
     "name": "stdout",
     "output_type": "stream",
     "text": [
      "250000500000\n"
     ]
    }
   ],
   "source": [
    "# Challenge: Sum of even numbers from 0 to 1,000,000 using generator expression only (not a list!)\n",
    "even_sum = sum(x for x in range(1000001) if x%2==0)\n",
    "print(even_sum)"
   ]
  }
 ],
 "metadata": {
  "kernelspec": {
   "display_name": "Python 3",
   "language": "python",
   "name": "python3"
  },
  "language_info": {
   "codemirror_mode": {
    "name": "ipython",
    "version": 3
   },
   "file_extension": ".py",
   "mimetype": "text/x-python",
   "name": "python",
   "nbconvert_exporter": "python",
   "pygments_lexer": "ipython3",
   "version": "3.12.3"
  }
 },
 "nbformat": 4,
 "nbformat_minor": 5
}
