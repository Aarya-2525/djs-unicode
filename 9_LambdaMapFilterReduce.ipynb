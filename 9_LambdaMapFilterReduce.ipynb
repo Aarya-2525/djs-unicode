{
 "cells": [
  {
   "cell_type": "markdown",
   "id": "4c6a80fe",
   "metadata": {},
   "source": [
    "# ⚙️ Python Drill Notebook: Lambda, Map, Filter, Reduce\n",
    "Welcome Aarya! This notebook is packed with challenges to master Python's functional programming tools."
   ]
  },
  {
   "cell_type": "markdown",
   "id": "fb741e70",
   "metadata": {},
   "source": [
    "## 🔹 1. Lambda Expressions"
   ]
  },
  {
   "cell_type": "code",
   "execution_count": 1,
   "id": "ab99bb65",
   "metadata": {},
   "outputs": [
    {
     "name": "stdout",
     "output_type": "stream",
     "text": [
      "25\n"
     ]
    }
   ],
   "source": [
    "# Write a lambda to square a number\n",
    "sqr = lambda x: x**2\n",
    "print(sqr(5))"
   ]
  },
  {
   "cell_type": "code",
   "execution_count": 4,
   "id": "2ac267dd",
   "metadata": {},
   "outputs": [
    {
     "name": "stdout",
     "output_type": "stream",
     "text": [
      "True\n"
     ]
    }
   ],
   "source": [
    "# Write a lambda to check if a number is divisible by 3 and 5\n",
    "div = lambda x: x%3 == 0 and x%5 ==0\n",
    "print(div(15))"
   ]
  },
  {
   "cell_type": "code",
   "execution_count": 11,
   "id": "5b6eba26",
   "metadata": {},
   "outputs": [
    {
     "name": "stdout",
     "output_type": "stream",
     "text": [
      "['Be', 'Zed', 'Aarya', 'Alpha']\n"
     ]
    }
   ],
   "source": [
    "# Use lambda with sorted() to sort names by length:\n",
    "names = ['Aarya', 'Zed', 'Alpha', 'Be']\n",
    "sort_names = sorted(names, key=lambda name: len(name), reverse=False)\n",
    "print(sort_names)"
   ]
  },
  {
   "cell_type": "markdown",
   "id": "b852975e",
   "metadata": {},
   "source": [
    "## 🔸 2. map() — Transformation"
   ]
  },
  {
   "cell_type": "code",
   "execution_count": 15,
   "id": "817e5df7",
   "metadata": {},
   "outputs": [
    {
     "name": "stdout",
     "output_type": "stream",
     "text": [
      "[32.0, 50.0, 68.0, 86.0, 104.0]\n"
     ]
    }
   ],
   "source": [
    "# Use map and lambda to convert list of temperatures in Celsius to Fahrenheit:\n",
    "celsius = [0, 10, 20, 30, 40]\n",
    "fahrenheit = list(map(lambda x: x*1.8 + 32, celsius))\n",
    "print(fahrenheit)"
   ]
  },
  {
   "cell_type": "code",
   "execution_count": 16,
   "id": "32f27fc1",
   "metadata": {},
   "outputs": [
    {
     "name": "stdout",
     "output_type": "stream",
     "text": [
      "[1, 2, 9, 4, 25, 6, 49, 8, 81, 10]\n"
     ]
    }
   ],
   "source": [
    "# Square all odd numbers from 1 to 10 using map\n",
    "nums = [x for x in range(1,11)]\n",
    "odd_sqr = list(map(lambda x: x**2 if x%2 != 0 else x, nums))\n",
    "print(odd_sqr)"
   ]
  },
  {
   "cell_type": "markdown",
   "id": "ce63059d",
   "metadata": {},
   "source": [
    "## 🔸 3. filter() — Selection"
   ]
  },
  {
   "cell_type": "code",
   "execution_count": 23,
   "id": "1d9382a0",
   "metadata": {},
   "outputs": [
    {
     "name": "stdout",
     "output_type": "stream",
     "text": [
      "['Aarya', 'Anya']\n"
     ]
    }
   ],
   "source": [
    "# Filter out all names that start with 'A':\n",
    "names = ['Aarya', 'Zed', 'Anya', 'Mike']\n",
    "a_names = list(filter(lambda name: name[0]=='A',names))\n",
    "print(a_names)"
   ]
  },
  {
   "cell_type": "code",
   "execution_count": 24,
   "id": "8cd6fe5e",
   "metadata": {},
   "outputs": [
    {
     "name": "stdout",
     "output_type": "stream",
     "text": [
      "[1, 4, 9, 16, 25, 36, 49, 64, 81, 100]\n"
     ]
    }
   ],
   "source": [
    "# Get all perfect squares from 1–100 using filter and a helper lambda\n",
    "nums = [x for x in range(1,101)]\n",
    "helper = lambda x: int(x**0.5)**2 == x\n",
    "perfect_sqr = list(filter(helper,nums))\n",
    "print(perfect_sqr)"
   ]
  },
  {
   "cell_type": "markdown",
   "id": "379106fb",
   "metadata": {},
   "source": [
    "## 🔸 4. reduce() — Accumulation"
   ]
  },
  {
   "cell_type": "code",
   "execution_count": 25,
   "id": "f92388fb",
   "metadata": {},
   "outputs": [],
   "source": [
    "from functools import reduce"
   ]
  },
  {
   "cell_type": "code",
   "execution_count": 26,
   "id": "547ed121",
   "metadata": {},
   "outputs": [
    {
     "name": "stdout",
     "output_type": "stream",
     "text": [
      "720\n"
     ]
    }
   ],
   "source": [
    "# Use reduce to compute the factorial of 6\n",
    "nums = [x for x in range(1,7)]\n",
    "factorial = reduce(lambda x,y: x*y, nums)\n",
    "print(factorial)"
   ]
  },
  {
   "cell_type": "code",
   "execution_count": 29,
   "id": "a566a6dd",
   "metadata": {},
   "outputs": [
    {
     "name": "stdout",
     "output_type": "stream",
     "text": [
      "10\n"
     ]
    }
   ],
   "source": [
    "# Use reduce to find the maximum in this list: [3, 6, 2, 8, 4, 10]\n",
    "nums = [3, 6, 2, 8, 4, 10]\n",
    "maximum = reduce(lambda x,y: x if x>y else y, nums)\n",
    "print(maximum)"
   ]
  },
  {
   "cell_type": "markdown",
   "id": "80c10c37",
   "metadata": {},
   "source": [
    "## 🧠 5. Combo Challenge"
   ]
  },
  {
   "cell_type": "code",
   "execution_count": 33,
   "id": "ba1f5e13",
   "metadata": {},
   "outputs": [
    {
     "name": "stdout",
     "output_type": "stream",
     "text": [
      "[4, 16, 36, 64, 100, 144, 196, 256, 324, 400]\n"
     ]
    }
   ],
   "source": [
    "# Square only the even numbers from 1 to 20 using filter + map + lambda\n",
    "nums = [x for x in range(1,21)]\n",
    "even = filter(lambda x: x%2==0, nums)\n",
    "sqr = list(map(lambda x: x**2, even))\n",
    "print(sqr)"
   ]
  },
  {
   "cell_type": "code",
   "execution_count": 35,
   "id": "370e3098",
   "metadata": {},
   "outputs": [
    {
     "name": "stdout",
     "output_type": "stream",
     "text": [
      "3840\n"
     ]
    }
   ],
   "source": [
    "# Use reduce to multiply all even numbers between 1 and 10\n",
    "nums = [x for x in range(1,11)]\n",
    "even = filter(lambda x: x%2==0, nums)\n",
    "even_product = reduce(lambda x,y: x*y, even)\n",
    "print(even_product)"
   ]
  }
 ],
 "metadata": {
  "kernelspec": {
   "display_name": "Python 3",
   "language": "python",
   "name": "python3"
  },
  "language_info": {
   "codemirror_mode": {
    "name": "ipython",
    "version": 3
   },
   "file_extension": ".py",
   "mimetype": "text/x-python",
   "name": "python",
   "nbconvert_exporter": "python",
   "pygments_lexer": "ipython3",
   "version": "3.12.3"
  }
 },
 "nbformat": 4,
 "nbformat_minor": 5
}
